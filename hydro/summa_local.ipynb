{
 "cells": [
  {
   "cell_type": "markdown",
   "metadata": {},
   "source": [
    "# Run Summa model locally on Jupyter server"
   ]
  },
  {
   "cell_type": "markdown",
   "metadata": {},
   "source": [
    "Structure for Unifying Multiple Modeling Alternative [(SUMMA)](https://ral.ucar.edu/projects/summa) is a hydrologic modeling approach that is built on a common set of conservation equations and a common numerical solver, which together constitute the structural core of the model. Different modeling approaches can then be implemented within the structural core, enabling a controlled and systematic analysis of alternative modeling options, and providing insight for future model development.\n",
    "\n",
    "This notebook provides the option to allow users to run SUMMA model locally. Please refer to the other two SUMMA notebooks for running with High-Performance Computer (HPC) options."
   ]
  },
  {
   "cell_type": "markdown",
   "metadata": {},
   "source": [
    "# Notebook Outline\n",
    "- [Retrieve Resources](#resources)\n",
    "- [Unzip model instance package](#unzip)\n",
    "- [Install SUMMA model](#install)\n",
    "- [PySumma to configure model parameters](#build)\n",
    "- [Run summa model locally](#submit)\n",
    "- [Check model output](#check)\n",
    "- [Plot time series result](#plot)\n",
    "- [Cleanup](#cleanup)"
   ]
  },
  {
   "cell_type": "markdown",
   "metadata": {},
   "source": [
    "<a id='resources'></a>\n",
    "## Retrieve a Summa model instance resource from HydroShare"
   ]
  },
  {
   "cell_type": "markdown",
   "metadata": {},
   "source": [
    "### [For more info on this resource](https://www.hydroshare.org/resource/1f3f310af8364d2aa3e6a9459152a21c/)"
   ]
  },
  {
   "cell_type": "code",
   "execution_count": null,
   "metadata": {},
   "outputs": [],
   "source": [
    "resource_id = '1f3f310af8364d2aa3e6a9459152a21c'\n",
    "import json\n",
    "import os\n",
    "from hs_restclient import HydroShare, HydroShareAuthBasic\n",
    "auth = HydroShareAuthBasic(\"cybergis\", \"demo\")\n",
    "hs = HydroShare(auth=auth)\n",
    "base_dir = os.path.abspath('/home/jovyan/work')\n",
    "download_dir = os.path.join(base_dir, 'Downloads')\n",
    "!mkdir -p {download_dir}\n",
    "hs.getResource(resource_id, destination=download_dir, unzip=True)"
   ]
  },
  {
   "cell_type": "markdown",
   "metadata": {},
   "source": [
    "<a id='unzip'></a>\n",
    "## Unzip model instance package"
   ]
  },
  {
   "cell_type": "code",
   "execution_count": null,
   "metadata": {},
   "outputs": [],
   "source": [
    "import os\n",
    "#Unzip model file\n",
    "model_folder_name = \"SummaModel_ReynoldsAspenStand_StomatalResistance_sopron\"\n",
    "file_manger_rel_path = \"settings/summa_fileManager_riparianAspenSimpleResistance.txt\"\n",
    "content_folder = os.path.join(download_dir ,\"{}/{}/data/contents\".format(resource_id, resource_id))\n",
    "import tempfile\n",
    "workspace_dir = os.path.join(base_dir, 'workspace')\n",
    "!mkdir -p {workspace_dir}\n",
    "unzip_dir = tempfile.mkdtemp(dir=workspace_dir)\n",
    "!cd {content_folder} && unzip -o {model_folder_name}.zip -d {unzip_dir}\n",
    "print(\"Unzipping Done\")"
   ]
  },
  {
   "cell_type": "markdown",
   "metadata": {},
   "source": [
    "<a id='install'></a>\n",
    "## \"Install\" SUMMA model on Jupyter server (fix broken path in summa file_manager)"
   ]
  },
  {
   "cell_type": "code",
   "execution_count": null,
   "metadata": {},
   "outputs": [],
   "source": [
    "model_source_folder_path = os.path.join(unzip_dir, model_folder_name)\n",
    "!cd {model_source_folder_path} && chmod +x ./installTestCases_local.sh\n",
    "!cd {model_source_folder_path} && ./installTestCases_local.sh"
   ]
  },
  {
   "cell_type": "markdown",
   "metadata": {},
   "source": [
    "<a id='build'></a>\n",
    "\n",
    "## Use PySumma to configure model parameters"
   ]
  },
  {
   "cell_type": "code",
   "execution_count": null,
   "metadata": {
    "scrolled": false
   },
   "outputs": [],
   "source": [
    "executable = \"/usr/bin/summa.exe\"\n",
    "! {executable} --version"
   ]
  },
  {
   "cell_type": "code",
   "execution_count": null,
   "metadata": {},
   "outputs": [],
   "source": [
    "from pysumma import Simulation\n",
    "\n",
    "# path to the SUMMA filemanager file on Jupyter\n",
    "file_manager = os.path.join(model_source_folder_path, file_manger_rel_path)\n",
    "\n",
    "# Create pySUMMA Simulation Object\n",
    "S = Simulation(executable, file_manager)\n",
    "\n",
    "# Configure the model\n",
    "S.decisions['simulStart'].value = \"2006-07-01 00:00\"\n",
    "S.decisions['simulFinsh'].value = \"2007-08-20 00:00\"\n",
    "S.decisions['stomResist'].value = 'BallBerry'\n",
    "# Save configiuration to disk\n",
    "S._write_configuration()\n",
    "print(S)"
   ]
  },
  {
   "cell_type": "markdown",
   "metadata": {},
   "source": [
    "<a id='submit'></a>\n",
    "## Run summa model locally"
   ]
  },
  {
   "cell_type": "code",
   "execution_count": null,
   "metadata": {},
   "outputs": [],
   "source": [
    "S.start(run_option=\"local\")\n",
    "\n",
    "# wait for results I/O \n",
    "import time\n",
    "time.sleep(5)"
   ]
  },
  {
   "cell_type": "code",
   "execution_count": null,
   "metadata": {},
   "outputs": [],
   "source": [
    "summa_output = os.path.join(model_source_folder_path, \n",
    "                            \"output\",\n",
    "                            \"vegImpactsTranspire_output_pysumma_run_timestep.nc\")\n",
    "print(summa_output)"
   ]
  },
  {
   "cell_type": "markdown",
   "metadata": {},
   "source": [
    "<a id='check'></a>\n",
    "## Check model output  -- NetCDF file"
   ]
  },
  {
   "cell_type": "code",
   "execution_count": null,
   "metadata": {},
   "outputs": [],
   "source": [
    "import xarray as xr\n",
    "output_info = xr.open_dataset(summa_output)\n",
    "output_info"
   ]
  },
  {
   "cell_type": "markdown",
   "metadata": {},
   "source": [
    "<a id='plot'></a>\n",
    "## Plot time series for total evapotranspiration"
   ]
  },
  {
   "cell_type": "code",
   "execution_count": null,
   "metadata": {},
   "outputs": [],
   "source": [
    "%matplotlib inline\n",
    "import matplotlib.pyplot as plt\n",
    "from pandas.plotting import register_matplotlib_converters\n",
    "register_matplotlib_converters()\n",
    "x = output_info['time']\n",
    "y = (output_info['scalarCanopyTranspiration'] + \\\n",
    "     output_info['scalarCanopyEvaporation'] + \\\n",
    "     output_info['scalarGroundEvaporation'])*3600\n",
    "\n",
    "plt.figure(figsize=(15, 5))\n",
    "plt.plot(x, y, color='grey', linestyle='solid', markersize=0)\n",
    "\n",
    "    # Get the current axis of the plot and\n",
    "    # set the x and y-axis labels\n",
    "ax = plt.gca()\n",
    "ax.set_ylabel(\"Total ET (kg m-2 h-1)\")\n",
    "ax.set_xlabel('Date')\n",
    "ax.grid(True)\n",
    "\n",
    "ax.set_title('SUMMA Plot for Total ET')\n",
    "output_info.close()"
   ]
  },
  {
   "cell_type": "markdown",
   "metadata": {},
   "source": [
    "<a id='cleanup'></a>\n",
    "## Cleanup"
   ]
  },
  {
   "cell_type": "code",
   "execution_count": null,
   "metadata": {},
   "outputs": [],
   "source": [
    "!rm -rvf {unzip_dir}"
   ]
  },
  {
   "cell_type": "markdown",
   "metadata": {},
   "source": [
    "## Done"
   ]
  }
 ],
 "metadata": {
  "kernelspec": {
   "display_name": "Hydro-Python3",
   "language": "python",
   "name": "hydro-py3"
  },
  "language_info": {
   "codemirror_mode": {
    "name": "ipython",
    "version": 3
   },
   "file_extension": ".py",
   "mimetype": "text/x-python",
   "name": "python",
   "nbconvert_exporter": "python",
   "pygments_lexer": "ipython3",
   "version": "3.7.3"
  }
 },
 "nbformat": 4,
 "nbformat_minor": 2
}
