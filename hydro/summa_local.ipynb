{
 "cells": [
  {
   "cell_type": "markdown",
   "metadata": {},
   "source": [
    "# Run Summa model locally on Jupyter server"
   ]
  },
  {
   "cell_type": "markdown",
   "metadata": {},
   "source": [
    "Structure for Unifying Multiple Modeling Alternative [(SUMMA)](https://ral.ucar.edu/projects/summa) is a hydrologic modeling approach that is built on a common set of conservation equations and a common numerical solver, which together constitute the structural core of the model. Different modeling approaches can then be implemented within the structural core, enabling a controlled and systematic analysis of alternative modeling options, and providing insight for future model development.\n",
    "\n",
    "This notebook provides the option to allow users to run SUMMA model locally. Please refer to the other two SUMMA notebooks for running with High-Performance Computer (HPC) options."
   ]
  },
  {
   "cell_type": "markdown",
   "metadata": {},
   "source": [
    "# Notebook Outline\n",
    "- [Retrieve Resources](#resources)\n",
    "- [Unzip model instance package](#unzip)\n",
    "- [Install SUMMA model](#install)\n",
    "- [PySumma to configure model parameters](#build)\n",
    "- [Run summa model locally](#submit)\n",
    "- [Check model output](#check)\n",
    "- [Plot time series result](#plot)\n",
    "- [Cleanup](#cleanup)"
   ]
  },
  {
   "cell_type": "markdown",
   "metadata": {},
   "source": [
    "<a id='resources'></a>\n",
    "## Retrieve a Summa model instance resource from HydroShare"
   ]
  },
  {
   "cell_type": "markdown",
   "metadata": {},
   "source": [
    "### [For more info on this resource](https://www.hydroshare.org/resource/1f3f310af8364d2aa3e6a9459152a21c/)"
   ]
  },
  {
   "cell_type": "code",
   "execution_count": 1,
   "metadata": {},
   "outputs": [],
   "source": [
    "resource_id = '1f3f310af8364d2aa3e6a9459152a21c'\n",
    "import json\n",
    "import os\n",
    "from hs_restclient import HydroShare, HydroShareAuthBasic\n",
    "auth = HydroShareAuthBasic(\"cybergis\", \"demo\")\n",
    "hs = HydroShare(auth=auth)\n",
    "base_dir = os.path.abspath('/home/jovyan/work')\n",
    "download_dir = os.path.join(base_dir, 'Downloads')\n",
    "!mkdir -p {download_dir}\n",
    "hs.getResource(resource_id, destination=download_dir, unzip=True)"
   ]
  },
  {
   "cell_type": "markdown",
   "metadata": {},
   "source": [
    "<a id='unzip'></a>\n",
    "## Unzip model instance package"
   ]
  },
  {
   "cell_type": "code",
   "execution_count": 2,
   "metadata": {},
   "outputs": [
    {
     "name": "stdout",
     "output_type": "stream",
     "text": [
      "Archive:  SummaModel_ReynoldsAspenStand_StomatalResistance_sopron.zip\n",
      "   creating: /home/jovyan/work/workspace/tmp1ehngo9s/SummaModel_ReynoldsAspenStand_StomatalResistance_sopron/\n",
      "   creating: /home/jovyan/work/workspace/tmp1ehngo9s/SummaModel_ReynoldsAspenStand_StomatalResistance_sopron/data/\n",
      "   creating: /home/jovyan/work/workspace/tmp1ehngo9s/SummaModel_ReynoldsAspenStand_StomatalResistance_sopron/data/forcingData/\n",
      "  inflating: /home/jovyan/work/workspace/tmp1ehngo9s/SummaModel_ReynoldsAspenStand_StomatalResistance_sopron/data/forcingData/forcing_above_aspen.nc  \n",
      "  inflating: /home/jovyan/work/workspace/tmp1ehngo9s/SummaModel_ReynoldsAspenStand_StomatalResistance_sopron/data/reynolds_geojson_latlon.geojson  \n",
      "   creating: /home/jovyan/work/workspace/tmp1ehngo9s/SummaModel_ReynoldsAspenStand_StomatalResistance_sopron/data/validationData/\n",
      "  inflating: /home/jovyan/work/workspace/tmp1ehngo9s/SummaModel_ReynoldsAspenStand_StomatalResistance_sopron/data/validationData/ReynoldsCreek_eddyFlux.nc  \n",
      "  inflating: /home/jovyan/work/workspace/tmp1ehngo9s/SummaModel_ReynoldsAspenStand_StomatalResistance_sopron/installTestCases_local.sh  \n",
      "   creating: /home/jovyan/work/workspace/tmp1ehngo9s/SummaModel_ReynoldsAspenStand_StomatalResistance_sopron/output/\n",
      "   creating: /home/jovyan/work/workspace/tmp1ehngo9s/SummaModel_ReynoldsAspenStand_StomatalResistance_sopron/settings/\n",
      "  inflating: /home/jovyan/work/workspace/tmp1ehngo9s/SummaModel_ReynoldsAspenStand_StomatalResistance_sopron/settings/GENPARM.TBL  \n",
      "   creating: /home/jovyan/work/workspace/tmp1ehngo9s/SummaModel_ReynoldsAspenStand_StomatalResistance_sopron/settings/meta/\n",
      "  inflating: /home/jovyan/work/workspace/tmp1ehngo9s/SummaModel_ReynoldsAspenStand_StomatalResistance_sopron/settings/meta/dos2unix.sh  \n",
      "  inflating: /home/jovyan/work/workspace/tmp1ehngo9s/SummaModel_ReynoldsAspenStand_StomatalResistance_sopron/settings/meta/Model_Output.txt  \n",
      "  inflating: /home/jovyan/work/workspace/tmp1ehngo9s/SummaModel_ReynoldsAspenStand_StomatalResistance_sopron/settings/meta/summa_zBasinModelVarMeta.txt  \n",
      "  inflating: /home/jovyan/work/workspace/tmp1ehngo9s/SummaModel_ReynoldsAspenStand_StomatalResistance_sopron/settings/meta/summa_zBasinParamMeta.txt  \n",
      "  inflating: /home/jovyan/work/workspace/tmp1ehngo9s/SummaModel_ReynoldsAspenStand_StomatalResistance_sopron/settings/meta/summa_zCategoryMeta.txt  \n",
      "  inflating: /home/jovyan/work/workspace/tmp1ehngo9s/SummaModel_ReynoldsAspenStand_StomatalResistance_sopron/settings/meta/summa_zForceMeta.txt  \n",
      "  inflating: /home/jovyan/work/workspace/tmp1ehngo9s/SummaModel_ReynoldsAspenStand_StomatalResistance_sopron/settings/meta/summa_zLocalAttributeMeta.txt  \n",
      "  inflating: /home/jovyan/work/workspace/tmp1ehngo9s/SummaModel_ReynoldsAspenStand_StomatalResistance_sopron/settings/meta/summa_zLocalModelIndexMeta.txt  \n",
      "  inflating: /home/jovyan/work/workspace/tmp1ehngo9s/SummaModel_ReynoldsAspenStand_StomatalResistance_sopron/settings/meta/summa_zLocalModelVarMeta.txt  \n",
      "  inflating: /home/jovyan/work/workspace/tmp1ehngo9s/SummaModel_ReynoldsAspenStand_StomatalResistance_sopron/settings/meta/summa_zLocalParamMeta.txt  \n",
      "  inflating: /home/jovyan/work/workspace/tmp1ehngo9s/SummaModel_ReynoldsAspenStand_StomatalResistance_sopron/settings/meta/summa_zModelIndexMeta.txt  \n",
      "  inflating: /home/jovyan/work/workspace/tmp1ehngo9s/SummaModel_ReynoldsAspenStand_StomatalResistance_sopron/settings/meta/summa_zParamMeta.txt  \n",
      "  inflating: /home/jovyan/work/workspace/tmp1ehngo9s/SummaModel_ReynoldsAspenStand_StomatalResistance_sopron/settings/meta/summa_zTimeMeta.txt  \n",
      "  inflating: /home/jovyan/work/workspace/tmp1ehngo9s/SummaModel_ReynoldsAspenStand_StomatalResistance_sopron/settings/meta/var_lookup.f90  \n",
      "  inflating: /home/jovyan/work/workspace/tmp1ehngo9s/SummaModel_ReynoldsAspenStand_StomatalResistance_sopron/settings/MPTABLE.TBL  \n",
      "  inflating: /home/jovyan/work/workspace/tmp1ehngo9s/SummaModel_ReynoldsAspenStand_StomatalResistance_sopron/settings/SOILPARM.TBL  \n",
      "  inflating: /home/jovyan/work/workspace/tmp1ehngo9s/SummaModel_ReynoldsAspenStand_StomatalResistance_sopron/settings/summa_fileManager_riparianAspenSimpleResistance.txt  \n",
      "  inflating: /home/jovyan/work/workspace/tmp1ehngo9s/SummaModel_ReynoldsAspenStand_StomatalResistance_sopron/settings/summa_zBasinParamInfo.txt  \n",
      "  inflating: /home/jovyan/work/workspace/tmp1ehngo9s/SummaModel_ReynoldsAspenStand_StomatalResistance_sopron/settings/summa_zDecisions_riparianAspenSimpleResistance.txt  \n",
      "  inflating: /home/jovyan/work/workspace/tmp1ehngo9s/SummaModel_ReynoldsAspenStand_StomatalResistance_sopron/settings/summa_zForcingFileList_riparianAspen.txt  \n",
      "  inflating: /home/jovyan/work/workspace/tmp1ehngo9s/SummaModel_ReynoldsAspenStand_StomatalResistance_sopron/settings/summa_zForcingInfo_riparianAspen.txt  \n",
      "  inflating: /home/jovyan/work/workspace/tmp1ehngo9s/SummaModel_ReynoldsAspenStand_StomatalResistance_sopron/settings/summa_zInitialCond.nc  \n",
      "  inflating: /home/jovyan/work/workspace/tmp1ehngo9s/SummaModel_ReynoldsAspenStand_StomatalResistance_sopron/settings/summa_zLocalAttributes_riparianAspen.nc  \n",
      "  inflating: /home/jovyan/work/workspace/tmp1ehngo9s/SummaModel_ReynoldsAspenStand_StomatalResistance_sopron/settings/summa_zLocalParamInfo.txt  \n",
      "  inflating: /home/jovyan/work/workspace/tmp1ehngo9s/SummaModel_ReynoldsAspenStand_StomatalResistance_sopron/settings/summa_zParamTrial_riparianAspen.nc  \n",
      "  inflating: /home/jovyan/work/workspace/tmp1ehngo9s/SummaModel_ReynoldsAspenStand_StomatalResistance_sopron/settings/VEGPARM.TBL  \n",
      "Unzipping Done\n"
     ]
    }
   ],
   "source": [
    "import os\n",
    "#Unzip model file\n",
    "model_folder_name = \"SummaModel_ReynoldsAspenStand_StomatalResistance_sopron\"\n",
    "file_manger_rel_path = \"settings/summa_fileManager_riparianAspenSimpleResistance.txt\"\n",
    "content_folder = os.path.join(download_dir ,\"{}/{}/data/contents\".format(resource_id, resource_id))\n",
    "import tempfile\n",
    "workspace_dir = os.path.join(base_dir, 'workspace')\n",
    "!mkdir -p {workspace_dir}\n",
    "unzip_dir = tempfile.mkdtemp(dir=workspace_dir)\n",
    "!cd {content_folder} && unzip -o {model_folder_name}.zip -d {unzip_dir}\n",
    "print(\"Unzipping Done\")"
   ]
  },
  {
   "cell_type": "markdown",
   "metadata": {},
   "source": [
    "<a id='install'></a>\n",
    "## \"Install\" SUMMA model on Jupyter server (fix broken path in summa file_manager)"
   ]
  },
  {
   "cell_type": "code",
   "execution_count": 3,
   "metadata": {},
   "outputs": [
    {
     "name": "stdout",
     "output_type": "stream",
     "text": [
      "TestCases installed\r\n"
     ]
    }
   ],
   "source": [
    "model_source_folder_path = os.path.join(unzip_dir, model_folder_name)\n",
    "!cd {model_source_folder_path} && chmod +x ./installTestCases_local.sh\n",
    "!cd {model_source_folder_path} && ./installTestCases_local.sh"
   ]
  },
  {
   "cell_type": "markdown",
   "metadata": {},
   "source": [
    "<a id='build'></a>\n",
    "\n",
    "## Use PySumma to configure model parameters"
   ]
  },
  {
   "cell_type": "code",
   "execution_count": 4,
   "metadata": {
    "scrolled": false
   },
   "outputs": [
    {
     "name": "stdout",
     "output_type": "stream",
     "text": [
      "----------------------------------------------------------------------\r\n",
      "     SUMMA - Structure for Unifying Multiple Modeling Alternatives    \r\n",
      "                           Version: v2.0.0\r\n",
      "               Build Time: Wed Dec 11 19:48:42 UTC 2019\r\n",
      "                  Git Branch: sopron_2018-0-gf18270c\r\n",
      "          Git Hash: f18270c2ce5f2b5004c2b3e1799bd0969612bb68\r\n",
      "----------------------------------------------------------------------\r\n"
     ]
    }
   ],
   "source": [
    "executable = \"/usr/bin/summa.exe\"\n",
    "! {executable} --version"
   ]
  },
  {
   "cell_type": "code",
   "execution_count": 5,
   "metadata": {},
   "outputs": [
    {
     "name": "stdout",
     "output_type": "stream",
     "text": [
      "Executable path: /usr/bin/summa.exe\n",
      "Simulation status: Initialized\n",
      "File manager configuration:\n",
      "'SUMMA_FILE_MANAGER_V1.0'    ! filemanager_version\n",
      "'/home/jovyan/work/workspace/tmp1ehngo9s/SummaModel_ReynoldsAspenStand_StomatalResistance_sopron/settings/'    ! settings_path\n",
      "'/home/jovyan/work/workspace/tmp1ehngo9s/SummaModel_ReynoldsAspenStand_StomatalResistance_sopron/data/forcingData/'    ! input_path\n",
      "'/home/jovyan/work/workspace/tmp1ehngo9s/SummaModel_ReynoldsAspenStand_StomatalResistance_sopron/output/'    ! output_path\n",
      "'summa_zDecisions_riparianAspenSimpleResistance.txt'    ! decisions_path\n",
      "'meta/summa_zTimeMeta.txt'    ! meta_time\n",
      "'meta/summa_zLocalAttributeMeta.txt'    ! meta_attr\n",
      "'meta/summa_zCategoryMeta.txt'    ! meta_type\n",
      "'meta/summa_zForceMeta.txt'    ! meta_force\n",
      "'meta/summa_zLocalParamMeta.txt'    ! meta_localparam\n",
      "'meta/Model_Output.txt'    ! output_control\n",
      "'meta/summa_zLocalModelIndexMeta.txt'    ! meta_localindex\n",
      "'meta/summa_zBasinParamMeta.txt'    ! meta_basinparam\n",
      "'meta/summa_zBasinModelVarMeta.txt'    ! meta_basinmvar\n",
      "'summa_zLocalAttributes_riparianAspen.nc'    ! local_attributes\n",
      "'summa_zLocalParamInfo.txt'    ! local_param_info\n",
      "'summa_zBasinParamInfo.txt'    ! basin_param_info\n",
      "'summa_zForcingFileList_riparianAspen.txt'    ! forcing_file_list\n",
      "'summa_zInitialCond.nc'    ! model_init_cond\n",
      "'summa_zParamTrial_riparianAspen.nc'    ! parameter_trial\n",
      "'vegImpactsTranspire'    ! output_prefix\n"
     ]
    }
   ],
   "source": [
    "from pysumma import Simulation\n",
    "\n",
    "# path to the SUMMA filemanager file on Jupyter\n",
    "file_manager = os.path.join(model_source_folder_path, file_manger_rel_path)\n",
    "\n",
    "# Create pySUMMA Simulation Object\n",
    "S = Simulation(executable, file_manager)\n",
    "\n",
    "# Configure the model\n",
    "S.decisions['simulStart'].value = \"2006-07-01 00:00\"\n",
    "S.decisions['simulFinsh'].value = \"2007-08-20 00:00\"\n",
    "S.decisions['stomResist'].value = 'BallBerry'\n",
    "# Save configiuration to disk\n",
    "S._write_configuration()\n",
    "print(S)"
   ]
  },
  {
   "cell_type": "markdown",
   "metadata": {},
   "source": [
    "<a id='submit'></a>\n",
    "## Run summa model locally"
   ]
  },
  {
   "cell_type": "code",
   "execution_count": 6,
   "metadata": {},
   "outputs": [],
   "source": [
    "S.start(run_option=\"local\")\n",
    "\n",
    "# wait for results I/O \n",
    "import time\n",
    "time.sleep(5)"
   ]
  },
  {
   "cell_type": "code",
   "execution_count": 7,
   "metadata": {},
   "outputs": [
    {
     "name": "stdout",
     "output_type": "stream",
     "text": [
      "/home/jovyan/work/workspace/tmp1ehngo9s/SummaModel_ReynoldsAspenStand_StomatalResistance_sopron/output/vegImpactsTranspire_output_pysumma_run_timestep.nc\n"
     ]
    }
   ],
   "source": [
    "summa_output = os.path.join(model_source_folder_path, \n",
    "                            \"output\",\n",
    "                            \"vegImpactsTranspire_output_pysumma_run_timestep.nc\")\n",
    "print(summa_output)"
   ]
  },
  {
   "cell_type": "markdown",
   "metadata": {},
   "source": [
    "<a id='check'></a>\n",
    "## Check model output  -- NetCDF file"
   ]
  },
  {
   "cell_type": "code",
   "execution_count": 8,
   "metadata": {},
   "outputs": [
    {
     "data": {
      "text/plain": [
       "<xarray.Dataset>\n",
       "Dimensions:                    (gru: 1, hru: 1, ifcSoil: 9, ifcToto: 14, midSoil: 8, midToto: 13, time: 9961)\n",
       "Coordinates:\n",
       "  * time                       (time) datetime64[ns] 2006-07-01 ... 2007-08-20\n",
       "  * hru                        (hru) int32 1\n",
       "Dimensions without coordinates: gru, ifcSoil, ifcToto, midSoil, midToto\n",
       "Data variables:\n",
       "    pptrate                    (time, hru) float64 ...\n",
       "    airtemp                    (time, hru) float64 ...\n",
       "    hruId                      (hru) int32 ...\n",
       "    basin__SurfaceRunoff       (time, gru) float64 ...\n",
       "    basin__ColumnOutflow       (time, gru) float64 ...\n",
       "    basin__AquiferStorage      (time, gru) float64 ...\n",
       "    basin__AquiferRecharge     (time, gru) float64 ...\n",
       "    basin__AquiferBaseflow     (time, gru) float64 ...\n",
       "    basin__AquiferTranspire    (time, gru) float64 ...\n",
       "    averageInstantRunoff       (time, gru) float64 ...\n",
       "    averageRoutedRunoff        (time, gru) float64 ...\n",
       "    nSnow                      (time, hru) int32 ...\n",
       "    nSoil                      (time, hru) int32 ...\n",
       "    nLayers                    (time, hru) int32 ...\n",
       "    scalarSWE                  (time, hru) float64 ...\n",
       "    mLayerTemp                 (time, midToto, hru) float64 ...\n",
       "    mLayerVolFracIce           (time, midToto, hru) float64 ...\n",
       "    mLayerVolFracLiq           (time, midToto, hru) float64 ...\n",
       "    mLayerVolFracWat           (time, midToto, hru) float64 ...\n",
       "    mLayerMatricHead           (time, midSoil, hru) float64 ...\n",
       "    scalarSurfaceTemp          (time, hru) float64 ...\n",
       "    mLayerDepth                (time, midToto, hru) float64 ...\n",
       "    iLayerHeight               (time, ifcToto, hru) float64 ...\n",
       "    scalarSenHeatTotal         (time, hru) float64 ...\n",
       "    scalarLatHeatTotal         (time, hru) float64 ...\n",
       "    scalarSnowSublimation      (time, hru) float64 ...\n",
       "    scalarCanopyTranspiration  (time, hru) float64 ...\n",
       "    scalarCanopyEvaporation    (time, hru) float64 ...\n",
       "    scalarGroundEvaporation    (time, hru) float64 ...\n",
       "    scalarThroughfallSnow      (time, hru) float64 ...\n",
       "    scalarThroughfallRain      (time, hru) float64 ...\n",
       "    scalarRainPlusMelt         (time, hru) float64 ...\n",
       "    scalarInfiltration         (time, hru) float64 ...\n",
       "    scalarExfiltration         (time, hru) float64 ...\n",
       "    scalarSurfaceRunoff        (time, hru) float64 ...\n",
       "    iLayerLiqFluxSoil          (time, ifcSoil, hru) float64 ...\n",
       "    mLayerLiqFluxSoil          (time, midSoil, hru) float64 ...\n",
       "Attributes:\n",
       "    summaVersion:     v2.0.0\n",
       "    buildTime:        Wed Dec 11 19:48:42 UTC 2019\n",
       "    gitBranch:        sopron_2018-0-gf18270c\n",
       "    gitHash:          f18270c2ce5f2b5004c2b3e1799bd0969612bb68\n",
       "    soilStress:       NoahType\n",
       "    stomResist:       BallBerry\n",
       "    num_method:       itertive\n",
       "    fDerivMeth:       analytic\n",
       "    LAI_method:       specified\n",
       "    notPopulatedYet:  notPopulatedYet\n",
       "    f_Richards:       mixdform\n",
       "    groundwatr:       noXplict\n",
       "    hc_profile:       constant\n",
       "    bcUpprTdyn:       nrg_flux\n",
       "    bcLowrTdyn:       zeroFlux\n",
       "    bcUpprSoiH:       liq_flux\n",
       "    bcLowrSoiH:       drainage\n",
       "    veg_traits:       CM_QJRMS1988\n",
       "    canopyEmis:       difTrans\n",
       "    snowIncept:       lightSnow\n",
       "    windPrfile:       logBelowCanopy\n",
       "    astability:       louisinv\n",
       "    canopySrad:       BeersLaw\n",
       "    alb_method:       varDecay\n",
       "    snowLayers:       CLM_2010\n",
       "    compaction:       anderson\n",
       "    thCondSnow:       jrdn1991\n",
       "    thCondSoil:       mixConstit\n",
       "    spatial_gw:       localColumn\n",
       "    subRouting:       timeDlay"
      ]
     },
     "execution_count": 8,
     "metadata": {},
     "output_type": "execute_result"
    }
   ],
   "source": [
    "import xarray as xr\n",
    "output_info = xr.open_dataset(summa_output)\n",
    "output_info"
   ]
  },
  {
   "cell_type": "markdown",
   "metadata": {},
   "source": [
    "<a id='plot'></a>\n",
    "## Plot time series for total evapotranspiration"
   ]
  },
  {
   "cell_type": "code",
   "execution_count": 9,
   "metadata": {},
   "outputs": [
    {
     "data": {
      "image/png": "[encoded data removed]",
      "text/plain": [
       "<Figure size 1080x360 with 1 Axes>"
      ]
     },
     "metadata": {
      "needs_background": "light"
     },
     "output_type": "display_data"
    }
   ],
   "source": [
    "%matplotlib inline\n",
    "import matplotlib.pyplot as plt\n",
    "from pandas.plotting import register_matplotlib_converters\n",
    "register_matplotlib_converters()\n",
    "x = output_info['time']\n",
    "y = (output_info['scalarCanopyTranspiration'] + \\\n",
    "     output_info['scalarCanopyEvaporation'] + \\\n",
    "     output_info['scalarGroundEvaporation'])*3600\n",
    "\n",
    "plt.figure(figsize=(15, 5))\n",
    "plt.plot(x, y, color='grey', linestyle='solid', markersize=0)\n",
    "\n",
    "    # Get the current axis of the plot and\n",
    "    # set the x and y-axis labels\n",
    "ax = plt.gca()\n",
    "ax.set_ylabel(\"Total ET (kg m-2 h-1)\")\n",
    "ax.set_xlabel('Date')\n",
    "ax.grid(True)\n",
    "\n",
    "ax.set_title('SUMMA Plot for Total ET')\n",
    "output_info.close()"
   ]
  },
  {
   "cell_type": "markdown",
   "metadata": {},
   "source": [
    "<a id='cleanup'></a>\n",
    "## Cleanup"
   ]
  },
  {
   "cell_type": "code",
   "execution_count": 10,
   "metadata": {},
   "outputs": [
    {
     "name": "stdout",
     "output_type": "stream",
     "text": [
      "removed '/home/jovyan/work/workspace/tmp1ehngo9s/SummaModel_ReynoldsAspenStand_StomatalResistance_sopron/data/forcingData/forcing_above_aspen.nc'\r\n",
      "rm: cannot remove '/home/jovyan/work/workspace/tmp1ehngo9s/SummaModel_ReynoldsAspenStand_StomatalResistance_sopron/data/forcingData': Directory not empty\r\n",
      "removed '/home/jovyan/work/workspace/tmp1ehngo9s/SummaModel_ReynoldsAspenStand_StomatalResistance_sopron/data/reynolds_geojson_latlon.geojson'\r\n",
      "removed '/home/jovyan/work/workspace/tmp1ehngo9s/SummaModel_ReynoldsAspenStand_StomatalResistance_sopron/data/validationData/ReynoldsCreek_eddyFlux.nc'\r\n",
      "removed directory '/home/jovyan/work/workspace/tmp1ehngo9s/SummaModel_ReynoldsAspenStand_StomatalResistance_sopron/data/validationData'\r\n",
      "removed '/home/jovyan/work/workspace/tmp1ehngo9s/SummaModel_ReynoldsAspenStand_StomatalResistance_sopron/installTestCases_local.sh'\r\n",
      "removed '/home/jovyan/work/workspace/tmp1ehngo9s/SummaModel_ReynoldsAspenStand_StomatalResistance_sopron/output/runinfo.txt'\r\n",
      "removed '/home/jovyan/work/workspace/tmp1ehngo9s/SummaModel_ReynoldsAspenStand_StomatalResistance_sopron/output/vegImpactsTranspire_output_pysumma_run_timestep.nc'\r\n",
      "removed directory '/home/jovyan/work/workspace/tmp1ehngo9s/SummaModel_ReynoldsAspenStand_StomatalResistance_sopron/output'\r\n",
      "removed '/home/jovyan/work/workspace/tmp1ehngo9s/SummaModel_ReynoldsAspenStand_StomatalResistance_sopron/settings/GENPARM.TBL'\r\n",
      "removed '/home/jovyan/work/workspace/tmp1ehngo9s/SummaModel_ReynoldsAspenStand_StomatalResistance_sopron/settings/meta/dos2unix.sh'\r\n",
      "removed '/home/jovyan/work/workspace/tmp1ehngo9s/SummaModel_ReynoldsAspenStand_StomatalResistance_sopron/settings/meta/Model_Output.txt'\r\n",
      "removed '/home/jovyan/work/workspace/tmp1ehngo9s/SummaModel_ReynoldsAspenStand_StomatalResistance_sopron/settings/meta/summa_zBasinModelVarMeta.txt'\r\n",
      "removed '/home/jovyan/work/workspace/tmp1ehngo9s/SummaModel_ReynoldsAspenStand_StomatalResistance_sopron/settings/meta/summa_zBasinParamMeta.txt'\r\n",
      "removed '/home/jovyan/work/workspace/tmp1ehngo9s/SummaModel_ReynoldsAspenStand_StomatalResistance_sopron/settings/meta/summa_zCategoryMeta.txt'\r\n",
      "removed '/home/jovyan/work/workspace/tmp1ehngo9s/SummaModel_ReynoldsAspenStand_StomatalResistance_sopron/settings/meta/summa_zForceMeta.txt'\r\n",
      "removed '/home/jovyan/work/workspace/tmp1ehngo9s/SummaModel_ReynoldsAspenStand_StomatalResistance_sopron/settings/meta/summa_zLocalAttributeMeta.txt'\r\n",
      "removed '/home/jovyan/work/workspace/tmp1ehngo9s/SummaModel_ReynoldsAspenStand_StomatalResistance_sopron/settings/meta/summa_zLocalModelIndexMeta.txt'\r\n",
      "removed '/home/jovyan/work/workspace/tmp1ehngo9s/SummaModel_ReynoldsAspenStand_StomatalResistance_sopron/settings/meta/summa_zLocalModelVarMeta.txt'\r\n",
      "removed '/home/jovyan/work/workspace/tmp1ehngo9s/SummaModel_ReynoldsAspenStand_StomatalResistance_sopron/settings/meta/summa_zLocalParamMeta.txt'\r\n",
      "removed '/home/jovyan/work/workspace/tmp1ehngo9s/SummaModel_ReynoldsAspenStand_StomatalResistance_sopron/settings/meta/summa_zModelIndexMeta.txt'\r\n",
      "removed '/home/jovyan/work/workspace/tmp1ehngo9s/SummaModel_ReynoldsAspenStand_StomatalResistance_sopron/settings/meta/summa_zParamMeta.txt'\r\n",
      "removed '/home/jovyan/work/workspace/tmp1ehngo9s/SummaModel_ReynoldsAspenStand_StomatalResistance_sopron/settings/meta/summa_zTimeMeta.txt'\r\n",
      "removed '/home/jovyan/work/workspace/tmp1ehngo9s/SummaModel_ReynoldsAspenStand_StomatalResistance_sopron/settings/meta/var_lookup.f90'\r\n",
      "removed directory '/home/jovyan/work/workspace/tmp1ehngo9s/SummaModel_ReynoldsAspenStand_StomatalResistance_sopron/settings/meta'\r\n",
      "removed '/home/jovyan/work/workspace/tmp1ehngo9s/SummaModel_ReynoldsAspenStand_StomatalResistance_sopron/settings/MPTABLE.TBL'\r\n",
      "removed '/home/jovyan/work/workspace/tmp1ehngo9s/SummaModel_ReynoldsAspenStand_StomatalResistance_sopron/settings/SOILPARM.TBL'\r\n",
      "removed '/home/jovyan/work/workspace/tmp1ehngo9s/SummaModel_ReynoldsAspenStand_StomatalResistance_sopron/settings/summa_fileManager_riparianAspenSimpleResistance.txt'\r\n",
      "removed '/home/jovyan/work/workspace/tmp1ehngo9s/SummaModel_ReynoldsAspenStand_StomatalResistance_sopron/settings/summa_zBasinParamInfo.txt'\r\n",
      "removed '/home/jovyan/work/workspace/tmp1ehngo9s/SummaModel_ReynoldsAspenStand_StomatalResistance_sopron/settings/summa_zDecisions_riparianAspenSimpleResistance.txt'\r\n",
      "removed '/home/jovyan/work/workspace/tmp1ehngo9s/SummaModel_ReynoldsAspenStand_StomatalResistance_sopron/settings/summa_zForcingFileList_riparianAspen.txt'\r\n",
      "removed '/home/jovyan/work/workspace/tmp1ehngo9s/SummaModel_ReynoldsAspenStand_StomatalResistance_sopron/settings/summa_zForcingInfo_riparianAspen.txt'\r\n",
      "removed '/home/jovyan/work/workspace/tmp1ehngo9s/SummaModel_ReynoldsAspenStand_StomatalResistance_sopron/settings/summa_zInitialCond.nc'\r\n",
      "removed '/home/jovyan/work/workspace/tmp1ehngo9s/SummaModel_ReynoldsAspenStand_StomatalResistance_sopron/settings/summa_zLocalAttributes_riparianAspen.nc'\r\n",
      "removed '/home/jovyan/work/workspace/tmp1ehngo9s/SummaModel_ReynoldsAspenStand_StomatalResistance_sopron/settings/summa_zLocalParamInfo.txt'\r\n",
      "removed '/home/jovyan/work/workspace/tmp1ehngo9s/SummaModel_ReynoldsAspenStand_StomatalResistance_sopron/settings/summa_zParamTrial_riparianAspen.nc'\r\n",
      "removed '/home/jovyan/work/workspace/tmp1ehngo9s/SummaModel_ReynoldsAspenStand_StomatalResistance_sopron/settings/VEGPARM.TBL'\r\n",
      "rm: cannot remove '/home/jovyan/work/workspace/tmp1ehngo9s/SummaModel_ReynoldsAspenStand_StomatalResistance_sopron/settings': Directory not empty\r\n"
     ]
    }
   ],
   "source": [
    "!rm -rvf {unzip_dir}"
   ]
  },
  {
   "cell_type": "markdown",
   "metadata": {},
   "source": [
    "## Done"
   ]
  }
 ],
 "metadata": {
  "kernelspec": {
   "display_name": "Hydro-Python3",
   "language": "python",
   "name": "hydro-py3"
  },
  "language_info": {
   "codemirror_mode": {
    "name": "ipython",
    "version": 3
   },
   "file_extension": ".py",
   "mimetype": "text/x-python",
   "name": "python",
   "nbconvert_exporter": "python",
   "pygments_lexer": "ipython3",
   "version": "3.7.3"
  }
 },
 "nbformat": 4,
 "nbformat_minor": 2
}
