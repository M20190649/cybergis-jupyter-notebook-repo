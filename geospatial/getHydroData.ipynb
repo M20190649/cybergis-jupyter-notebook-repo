{
 "cells": [
  {
   "cell_type": "code",
   "execution_count": 1,
   "metadata": {},
   "outputs": [
    {
     "data": {
      "text/plain": [
       "['onion-hand']"
      ]
     },
     "execution_count": 1,
     "metadata": {},
     "output_type": "execute_result"
    }
   ],
   "source": [
    "#Down load hydro-share data files\n",
    "import requests\n",
    "import shutil\n",
    "import os\n",
    "import zipfile\n",
    "\n",
    "req = requests.get('https://www.hydroshare.org/resource/e08308554a454ba4a428366aa5341e34/data/contents/onion-hand_new.zip', stream=True)\n",
    "with open('onion-hand_new.zip', 'wb') as file:\n",
    "    shutil.copyfileobj(req.raw, file)\n",
    "    \n",
    "if not os.path.exists('./hydrodata'):\n",
    "    os.mkdir('./hydrodata')\n",
    "    \n",
    "with zipfile.ZipFile('onion-hand_new.zip', 'r') as file:\n",
    "    file.extractall('./hydrodata')\n",
    "\n",
    "os.listdir('./hydrodata')\n",
    "\n"
   ]
  },
  {
   "cell_type": "code",
   "execution_count": null,
   "metadata": {},
   "outputs": [],
   "source": []
  }
 ],
 "metadata": {
  "kernelspec": {
   "display_name": "Hydro-Python3",
   "language": "python",
   "name": "hydro-py3"
  },
  "language_info": {
   "codemirror_mode": {
    "name": "ipython",
    "version": 3
   },
   "file_extension": ".py",
   "mimetype": "text/x-python",
   "name": "python",
   "nbconvert_exporter": "python",
   "pygments_lexer": "ipython3",
   "version": "3.7.3"
  }
 },
 "nbformat": 4,
 "nbformat_minor": 2
}
