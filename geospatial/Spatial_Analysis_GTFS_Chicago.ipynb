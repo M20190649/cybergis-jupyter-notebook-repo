{
 "cells": [
  {
   "cell_type": "markdown",
   "metadata": {},
   "source": [
    "# Spatial analysis of the Chicago Transit system with General Transit Feed Specification (GTFS)"
   ]
  },
  {
   "cell_type": "markdown",
   "metadata": {},
   "source": [
    "The General Transit Feed Specification—or GTFS—is an open format for packaging scheduled service data. GTFS data is produced by hundreds of transit agencies around the world to deliver content for inclusion in maps and directions-giving services, including Google Maps."
   ]
  },
  {
   "cell_type": "markdown",
   "metadata": {},
   "source": [
    "### Set up and Load the GTFS data in Chicago"
   ]
  },
  {
   "cell_type": "code",
   "execution_count": null,
   "metadata": {},
   "outputs": [],
   "source": [
    "#show Chicago GTFS data\n",
    "\n",
    "%matplotlib inline\n",
    "\n",
    "import osmnx as ox, matplotlib.pyplot as plt\n",
    "ox.config(log_console=True, use_cache=True)\n",
    "\n",
    "import networkx as nx\n",
    "\n",
    "\n",
    "import requests\n",
    "import shutil\n",
    "import os\n",
    "import zipfile\n",
    "\n",
    "req = requests.get('http://gtfs.s3.amazonaws.com/chicago-transit-authority_20160416_0123.zip', stream=True)\n",
    "with open('chicago-transit-authority_20160416_0123.zip', 'wb') as file:\n",
    "    shutil.copyfileobj(req.raw, file)\n",
    "    \n",
    "if not os.path.exists('./gtfsdata'):\n",
    "    os.mkdir('./gtfsdata')\n",
    "    \n",
    "with zipfile.ZipFile('chicago-transit-authority_20160416_0123.zip', 'r') as file:\n",
    "    file.extractall('./gtfsdata')\n",
    "\n",
    "os.listdir('./gtfsdata')"
   ]
  },
  {
   "cell_type": "markdown",
   "metadata": {},
   "source": [
    "### Examples of the GTFS trips data and shapes data"
   ]
  },
  {
   "cell_type": "code",
   "execution_count": null,
   "metadata": {},
   "outputs": [],
   "source": [
    "import pandas as pd\n",
    "\n",
    "trips = pd.read_csv('gtfsdata/trips.txt', low_memory=False)\n",
    "shapes = pd.read_csv('gtfsdata/shapes.txt', low_memory=False)\n",
    "trips.head(10)"
   ]
  },
  {
   "cell_type": "code",
   "execution_count": null,
   "metadata": {
    "scrolled": true
   },
   "outputs": [],
   "source": [
    "shapes.head(10)"
   ]
  },
  {
   "cell_type": "markdown",
   "metadata": {},
   "source": [
    "### Distributions of latitude and longitude for Chicago GTFS dataset"
   ]
  },
  {
   "cell_type": "code",
   "execution_count": null,
   "metadata": {
    "scrolled": true
   },
   "outputs": [],
   "source": [
    "import matplotlib.pyplot as plt\n",
    "fig, (ax1, ax2) = plt.subplots(1, 2, figsize=(24, 10))\n",
    "fig.suptitle('Distributions of latitude and longitude for Chicago GTFS dataset', fontsize=16)\n",
    "ax1.hist(shapes.shape_pt_lat)\n",
    "ax1.set_xlabel('Latitude', fontsize=13)\n",
    "ax1.set_ylabel('Frequency', fontsize=13)\n",
    "ax2.hist(shapes.shape_pt_lon)\n",
    "ax2.set_xlabel('Longitude', fontsize=13)\n",
    "ax2.set_ylabel('Frequency', fontsize=13)"
   ]
  },
  {
   "cell_type": "markdown",
   "metadata": {},
   "source": [
    "### Heatmap for GTFS data in Chicago area"
   ]
  },
  {
   "cell_type": "code",
   "execution_count": null,
   "metadata": {},
   "outputs": [],
   "source": [
    "#Heatmap for the GTFS data in Chicago\n",
    "import matplotlib.pyplot as plt\n",
    "\n",
    "plt.figure(figsize = (20,16))\n",
    "plt.hist2d(shapes.shape_pt_lon, shapes.shape_pt_lat, bins=150, cmap='hot')\n",
    "plt.colorbar().set_label('Number of properties')\n",
    "plt.xlabel('Longitude', fontsize=14)\n",
    "plt.ylabel('Latitude', fontsize=14)\n",
    "plt.title('Number of properties for GTFS data in Chicago', fontsize=17)\n",
    "\n",
    "plt.show()"
   ]
  },
  {
   "cell_type": "code",
   "execution_count": null,
   "metadata": {},
   "outputs": [],
   "source": [
    "from __future__ import division \n",
    "import pandas as pd\n",
    "import numpy as np\n",
    "import matplotlib.pylab as plt\n",
    "plt.style.use('ggplot')\n",
    "import os\n",
    "import glob\n",
    "import datashader as ds\n",
    "import datashader.transfer_functions as tf\n",
    "\n",
    "import folium\n",
    "\n",
    "# Show GTFS data in Chicago\n",
    "\n",
    "#maindt = shapes[abs(shapes.shape_pt_lon +87.6298) <= 0.95]\n",
    "#maindt = maindt[abs(maindt.shape_pt_lat -41.8781 ) <= 0.95]\n",
    "cvs = ds.Canvas(plot_width=800, plot_height=800)\n",
    "agg = cvs.points(shapes,'shape_pt_lon','shape_pt_lat')\n",
    "img = tf.shade(agg, cmap=['lightblue','darkblue'],how='log')\n",
    "img"
   ]
  },
  {
   "cell_type": "code",
   "execution_count": null,
   "metadata": {},
   "outputs": [],
   "source": [
    "\n",
    "\n"
   ]
  },
  {
   "cell_type": "code",
   "execution_count": null,
   "metadata": {},
   "outputs": [],
   "source": [
    "# let's get a unique list of values\n",
    "def filter_by_int(seq):\n",
    "    for el in seq:\n",
    "        res = None\n",
    "        try:\n",
    "            res = int(el)\n",
    "        except ValueError:\n",
    "            pass\n",
    "        if res: yield res\n",
    "\n",
    "rts = pd.read_csv('gtfsdata/routes.txt', low_memory=False)\n",
    "unique_routes = set(rts[~rts['route_short_name'].isnull()]['route_short_name'].values)\n",
    "sorted_unique = sorted(filter_by_int(unique_routes))\n",
    "\n",
    "print('The number of Routes in feed is : {}'.format(len(sorted_unique)))\n",
    "print('Routes in feed: {}'.format(sorted_unique))"
   ]
  },
  {
   "cell_type": "code",
   "execution_count": null,
   "metadata": {},
   "outputs": [],
   "source": [
    "#trips = gtfs_dfs['trips']\n",
    "\n",
    "routes = rts\n",
    "all_rts_shapes = {}\n",
    "for rte_id in set(routes['route_id'].values):\n",
    "    rte_trips = trips[trips['route_id'] == rte_id]\n",
    "    rte_shapes = set(rte_trips['shape_id'].values)\n",
    "\n",
    "    #shapes = gtfs_dfs['shapes']\n",
    "    rte_sh_table = shapes[shapes['shape_id'].isin(rte_shapes)]\n",
    "\n",
    "    sh_dict = {}\n",
    "    for shid in rte_shapes:\n",
    "        one_shid = rte_sh_table[rte_sh_table['shape_id'] == shid]\n",
    "        sorted_shid_table = one_shid.sort_values(by='shape_pt_sequence', ascending=True)\n",
    "        shid_list = []\n",
    "        for id, row in sorted_shid_table.iterrows():\n",
    "            shid_list.append({\n",
    "                'id': id,\n",
    "                'lon': row.shape_pt_lon,\n",
    "                'lat': row.shape_pt_lat,\n",
    "                'seq': row.shape_pt_sequence,\n",
    "                'dist': row.shape_dist_traveled\n",
    "            })\n",
    "        sh_dict[shid] = shid_list\n",
    "    \n",
    "    # now update the reference list\n",
    "    all_rts_shapes[rte_id] = sh_dict"
   ]
  },
  {
   "cell_type": "code",
   "execution_count": null,
   "metadata": {},
   "outputs": [],
   "source": [
    "import hashlib\n",
    "def _make_id(shape_id, item):\n",
    "    \n",
    "    s = ''.join([shape_id, str(item['seq'])]).replace('_', '')\n",
    "    s = s.encode('utf-8')\n",
    "    s_int = abs(int(hashlib.sha1(s).hexdigest(), 16) % (10 ** 12))\n",
    "    return str(s_int)\n",
    "\n",
    "\n",
    "def add_new_route_shape(route, shape_id, pot_nodes, G):\n",
    "    # first add nodes to network\n",
    "    kept_nodes = []\n",
    "    for item in pot_nodes:\n",
    "        #print (shape_id,item['id'])\n",
    "        node_id = item['id'] #_make_id(shape_id, item)\n",
    "       \n",
    "        # if we can, check last node appended\n",
    "        if len(kept_nodes):\n",
    "            last_node = kept_nodes[-1]\n",
    "            # make sure it isn't at same distance along\n",
    "            # the route\n",
    "            if last_node['dist'] == item['dist']:\n",
    "                continue\n",
    "\n",
    "        # add to the graph\n",
    "        G.add_node(node_id, route=route,\n",
    "                            shape_id=shape_id,\n",
    "                            osmid=node_id,\n",
    "                            x=item['lon'],\n",
    "                            y=item['lat'])\n",
    "\n",
    "        # and update list for tracking\n",
    "        kept_nodes.append(item)\n",
    "\n",
    "    # now add edges\n",
    "    for a, b in zip(kept_nodes[:-1], kept_nodes[1:]):\n",
    "        a_id = a['id']#_make_id(shape_id, a)\n",
    "        b_id = b['id']#_make_id(shape_id, b)\n",
    "        length = ox.utils.great_circle_vec(a['lat'],\n",
    "                                           a['lon'],\n",
    "                                           b['lat'],\n",
    "                                           b['lon'])\n",
    "        G.add_edge(a_id, b_id, attr_dict={'length': length,\n",
    "                                          'route': route,\n",
    "                                          'shape_id': shape_id})\n",
    "\n",
    "#%time\n",
    "\n",
    "G_rts = nx.MultiDiGraph(name='all_rts', crs={'init':'epsg:4326'})\n",
    "\n",
    "all_rts_shapes_keys = list(all_rts_shapes.keys())\n",
    "for rte_key in all_rts_shapes_keys:\n",
    "    rte_shapes_dict = all_rts_shapes[rte_key]\n",
    "    for rte_shape_id in rte_shapes_dict.keys():\n",
    "        add_new_route_shape(rte_key, rte_shape_id, rte_shapes_dict[rte_shape_id], G_rts)"
   ]
  },
  {
   "cell_type": "code",
   "execution_count": null,
   "metadata": {},
   "outputs": [],
   "source": [
    "%time fig, ax = ox.plot_graph(ox.project_graph(G_rts), fig_height=20, node_size=1, dpi=600)"
   ]
  },
  {
   "cell_type": "code",
   "execution_count": null,
   "metadata": {},
   "outputs": [],
   "source": [
    "import matplotlib.pyplot as plt\n",
    "\n",
    "# calculate edge bearings and visualize their frequency\n",
    "G_rts = ox.add_edge_bearings(G_rts)\n",
    "bearings = pd.Series([data['bearing'] for u, v, k, data in G_rts.edges(keys=True, data=True)])\n",
    "ax = bearings.hist(bins=30, zorder=2, alpha=0.8)\n",
    "xlim = ax.set_xlim(0, 360)\n",
    "ax.set_title('Chicago MTS route bearings')\n",
    "plt.show()"
   ]
  },
  {
   "cell_type": "code",
   "execution_count": null,
   "metadata": {},
   "outputs": [],
   "source": [
    "# polar plot\n",
    "n = 30\n",
    "count, division = np.histogram(bearings, bins=[ang*360/n for ang in range(0,n+1)])\n",
    "division = division[0:-1]\n",
    "width =  2 * np.pi/n\n",
    "ax = plt.subplot(111, projection='polar')\n",
    "ax.set_theta_zero_location('N')\n",
    "ax.set_theta_direction('clockwise')\n",
    "bars = ax.bar(division * np.pi/180 - width * 0.5 , count, width=width, bottom=20.0)\n",
    "ax.set_title('Chicago MTS route bearings', y=1.1)\n",
    "plt.show()"
   ]
  },
  {
   "cell_type": "code",
   "execution_count": null,
   "metadata": {},
   "outputs": [],
   "source": [
    "# playing with plotting the bearing of each segment of each route\n",
    "edge_colors = ox.get_edge_colors_by_attr(G_rts, 'bearing', num_bins=10, cmap='viridis', start=0, stop=1)\n",
    "fig, ax = ox.plot_graph(ox.project_graph(G_rts), fig_height=20, node_size=1, edge_color=edge_colors, dpi=600)"
   ]
  },
  {
   "cell_type": "code",
   "execution_count": null,
   "metadata": {},
   "outputs": [],
   "source": []
  }
 ],
 "metadata": {
  "kernelspec": {
   "display_name": "Python 3",
   "language": "python",
   "name": "python3"
  },
  "language_info": {
   "codemirror_mode": {
    "name": "ipython",
    "version": 3
   },
   "file_extension": ".py",
   "mimetype": "text/x-python",
   "name": "python",
   "nbconvert_exporter": "python",
   "pygments_lexer": "ipython3",
   "version": "3.7.4"
  }
 },
 "nbformat": 4,
 "nbformat_minor": 2
}
