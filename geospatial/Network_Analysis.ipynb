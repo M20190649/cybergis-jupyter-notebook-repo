{
 "cells": [
  {
   "cell_type": "markdown",
   "metadata": {},
   "source": [
    "# Network Analysis "
   ]
  },
  {
   "cell_type": "markdown",
   "metadata": {},
   "source": [
    "This demostration shows network anaysis, including finding shortest path and \n",
    "\n",
    "The first one is  an interactive demo that shows user how to use osmnx and openstreetmap to find the shortest path between two locations in the real world.\n",
    "\n"
   ]
  },
  {
   "cell_type": "markdown",
   "metadata": {},
   "source": [
    "### Set up the environment by importing libraries"
   ]
  },
  {
   "cell_type": "code",
   "execution_count": null,
   "metadata": {},
   "outputs": [],
   "source": [
    "import numpy as np\n",
    "import osmnx as ox\n",
    "import networkx as nx\n",
    "import folium\n",
    "\n",
    "import matplotlib.pyplot as plt\n",
    "\n",
    "#Enable inline plotting of maps\n",
    "%matplotlib inline\n",
    "\n",
    "print (ox.__version__)\n",
    "ox.config(log_console=True, use_cache=True)"
   ]
  },
  {
   "cell_type": "markdown",
   "metadata": {},
   "source": [
    "### Defined the study area at the city of Urbana-Champaign, IL, US"
   ]
  },
  {
   "cell_type": "code",
   "execution_count": null,
   "metadata": {},
   "outputs": [],
   "source": [
    "#Define the study area\n",
    "places = ['Champaign, Illinois','Urbana, Illinois']"
   ]
  },
  {
   "cell_type": "markdown",
   "metadata": {},
   "source": [
    "### Read the network file at Urbana-Champaign and plot the area"
   ]
  },
  {
   "cell_type": "code",
   "execution_count": null,
   "metadata": {},
   "outputs": [],
   "source": [
    "#Note - this may take some time...\n",
    "# Choose one type of network\n",
    "#[ 'all_private','all','drive','drive_service', 'bike','walk']:#\n",
    "\n",
    "G = ox.graph_from_place(places, network_type='drive')\n",
    "\n",
    "#The step give projects to UTM \n",
    "#ox.plot_graph(ox.project_graph(G));\n",
    "#ox.plot_graph(G);\n",
    "ox.plot_graph(G, fig_height=20, fig_width=20, edge_color='black')\n",
    "\n",
    "#We do not save files in order to save time\n",
    "#filenames = 'Urban-Champaign-Net'\n",
    "#ox.save_graph_shapefile(G, filename=filenames)\n",
    "#ox.save_graphml(G, filename='Urban-Champaign-Net.graphml')\n"
   ]
  },
  {
   "cell_type": "markdown",
   "metadata": {},
   "source": [
    "### Define origin and destination location by providing longitude and latitude"
   ]
  },
  {
   "cell_type": "markdown",
   "metadata": {},
   "source": [
    "Plot the origin and destination point in the network graph of Urbana-Champaign, the origin is shown in red and destination is shown in blue."
   ]
  },
  {
   "cell_type": "code",
   "execution_count": null,
   "metadata": {},
   "outputs": [],
   "source": [
    "#origin = ox.utils.geocode('2012 S Orchard St,Urbana, IL')\n",
    "#destination = ox.utils.geocode('1301 W Green St, Urbana, IL')\n",
    "origin = (40.097468, -88.214171)\n",
    "destination =(40.10948505, -88.2260316492452)"
   ]
  },
  {
   "cell_type": "code",
   "execution_count": null,
   "metadata": {},
   "outputs": [],
   "source": [
    "# Show the origin point and destination point on the map\n",
    "fig, ax = ox.plot_graph(G, fig_height=20, fig_width=20, \n",
    "                        show=False, close=False, \n",
    "                        edge_color='black')\n",
    "\n",
    "ax.scatter(origin[1], origin[0], c='red', s=100)\n",
    "ax.scatter(destination[1], destination[0], c='blue', s=100)\n",
    "\n",
    "plt.show()"
   ]
  },
  {
   "cell_type": "code",
   "execution_count": null,
   "metadata": {},
   "outputs": [],
   "source": [
    "# get the nearest network node\n",
    "origin_node =  ox.get_nearest_node(G, origin) \n",
    "destination_node = ox.get_nearest_node(G, destination )"
   ]
  },
  {
   "cell_type": "code",
   "execution_count": null,
   "metadata": {},
   "outputs": [],
   "source": [
    "#Show the origin_node and the destination_node\n",
    "fig, ax = ox.plot_graph(G, fig_height=20, fig_width=20, \n",
    "                        show=False, close=False, \n",
    "                        edge_color='black')\n",
    "\n",
    "ax.scatter(origin[1], origin[0], c='red', s=100)\n",
    "ax.scatter(destination[1], destination[0], c='blue', s=100)\n",
    "\n",
    "ax.scatter(G.nodes[origin_node]['x'], G.nodes[origin_node]['y'], c='green', s=100)\n",
    "ax.scatter(G.nodes[destination_node]['x'], G.nodes[destination_node]['y'], c='green', s=100)\n",
    "\n",
    "plt.show()"
   ]
  },
  {
   "cell_type": "markdown",
   "metadata": {},
   "source": [
    "### Find the shortest path between origin and destination"
   ]
  },
  {
   "cell_type": "code",
   "execution_count": null,
   "metadata": {},
   "outputs": [],
   "source": [
    "route = nx.shortest_path(G, origin_node, destination_node)\n",
    "\n",
    "\n",
    "fig, ax = ox.plot_graph_route(G, route, fig_height=20, fig_width=20, \n",
    "                    show=False, close=False, \n",
    "                    edge_color='black',\n",
    "                    orig_dest_node_color='green',\n",
    "                    route_color='green')\n",
    "\n",
    "ax.scatter(origin[1], origin[0], c='red', s=100)\n",
    "ax.scatter(destination[1], destination[0], c='blue', s=100)\n",
    "\n",
    "plt.show()"
   ]
  },
  {
   "cell_type": "markdown",
   "metadata": {},
   "source": [
    "### Find the shortest distance between two random points in Urbana-Champaign"
   ]
  },
  {
   "cell_type": "code",
   "execution_count": null,
   "metadata": {},
   "outputs": [],
   "source": [
    "#Using osmnx to compute the shortest path between two random nodes along road networks\n",
    "route = nx.shortest_path(G, np.random.choice(G.nodes()), np.random.choice(G.nodes()))\n",
    "\n",
    "#route = nx.shortest_path(G, np.random(G.nodes), np.random(G.nodes))\n",
    "ox.plot_graph_route(G, route, fig_height=20, fig_width=20)\n"
   ]
  },
  {
   "cell_type": "markdown",
   "metadata": {},
   "source": [
    "### Walking isochrones from road network center with different time\n",
    "\n"
   ]
  },
  {
   "cell_type": "code",
   "execution_count": null,
   "metadata": {},
   "outputs": [],
   "source": [
    "t_network_type = 'walk'\n",
    "trip_times = [5, 10, 15, 20, 25] #in minutes\n",
    "travel_speed = 4.5 #walking speed in km/hour\n",
    "\n",
    "#Get the walk road network using osmnx\n",
    "G = ox.graph_from_place(places, network_type=t_network_type)\n",
    "\n",
    "#Get the center of the road network and retroject the road network\n",
    "gdf_nodes = ox.graph_to_gdfs(G, edges=False)\n",
    "x, y = gdf_nodes['geometry'].unary_union.centroid.xy\n",
    "center_node = ox.get_nearest_node(G, (y[0], x[0]))\n",
    "G = ox.project_graph(G)\n",
    "\n",
    "ox.plot_graph(G, fig_height=20, fig_width=20, edge_color='black')\n"
   ]
  },
  {
   "cell_type": "code",
   "execution_count": null,
   "metadata": {},
   "outputs": [],
   "source": [
    "# add an edge attribute for time in minutes required to traverse each edge\n",
    "meters_per_minute = travel_speed * 1000 / 60 #km per hour to meters per minute\n",
    "for u, v, k, data in G.edges(data=True, keys=True):\n",
    "    data['time'] = data['length'] / meters_per_minute"
   ]
  },
  {
   "cell_type": "code",
   "execution_count": null,
   "metadata": {},
   "outputs": [],
   "source": [
    "# get one color for each isochrone\n",
    "iso_colors = ox.get_colors(n=len(trip_times), cmap='Reds', start=0.3, return_hex=True)"
   ]
  },
  {
   "cell_type": "code",
   "execution_count": null,
   "metadata": {},
   "outputs": [],
   "source": [
    "# color the network nodes according to isochrone then plot the road network\n",
    "node_colors = {}\n",
    "for trip_time, color in zip(sorted(trip_times, reverse=True), iso_colors):\n",
    "    subgraph = nx.ego_graph(G, center_node, radius=trip_time, distance='time')\n",
    "    for node in subgraph.nodes():\n",
    "        node_colors[node] = color\n",
    "nc = [node_colors[node] if node in node_colors else 'none' for node in G.nodes()]\n",
    "ns = [20 if node in node_colors else 0 for node in G.nodes()]\n",
    "# First show the isochrone nodes and then plot the road network\n",
    "fig, ax = ox.plot_graph(G, fig_height=20, node_color=nc, node_size=ns, node_alpha=0.8, node_zorder=2)"
   ]
  },
  {
   "cell_type": "code",
   "execution_count": null,
   "metadata": {},
   "outputs": [],
   "source": [
    "# make the isochrone polygons\n",
    "from shapely.geometry import Point, Polygon, LineString\n",
    "from descartes import PolygonPatch\n",
    "import geopandas as gpd\n",
    "\n",
    "isochrone_polys = []\n",
    "for trip_time in sorted(trip_times, reverse=True):\n",
    "    subgraph = nx.ego_graph(G, center_node, radius=trip_time, distance='time')\n",
    "    node_points = [Point((data['x'], data['y'])) for node, data in subgraph.nodes(data=True)]\n",
    "    bounding_poly = gpd.GeoSeries(node_points).unary_union.convex_hull\n",
    "    isochrone_polys.append(bounding_poly)\n",
    "\n",
    "# plot the road network, then add isochrones as colored descartes polygon patches\n",
    "fig, ax = ox.plot_graph(G, fig_height=20, show=False, close=False, edge_color='k', edge_alpha=0.2, node_color='none')\n",
    "for polygon, fc in zip(isochrone_polys, iso_colors):\n",
    "    patch = PolygonPatch(polygon, fc=fc, ec='none', alpha=0.6, zorder=-1) #-1\n",
    "    ax.add_patch(patch)\n",
    "plt.show()"
   ]
  }
 ],
 "metadata": {
  "kernelspec": {
   "display_name": "Python 3",
   "language": "python",
   "name": "python3"
  },
  "language_info": {
   "codemirror_mode": {
    "name": "ipython",
    "version": 3
   },
   "file_extension": ".py",
   "mimetype": "text/x-python",
   "name": "python",
   "nbconvert_exporter": "python",
   "pygments_lexer": "ipython3",
   "version": "3.7.4"
  }
 },
 "nbformat": 4,
 "nbformat_minor": 2
}
