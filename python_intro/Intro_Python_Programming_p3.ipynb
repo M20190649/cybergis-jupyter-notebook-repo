{
 "cells": [
  {
   "cell_type": "markdown",
   "metadata": {},
   "source": [
    "# Introduction to Python Programming\n",
    "#### Interactive Jupyter Notebook"
   ]
  },
  {
   "cell_type": "markdown",
   "metadata": {},
   "source": [
    "This notebook provides an introduction to <b>Python programming fundamentals</b>, including an overview of basic programing concepts, common data structures, and simple visualization. This notebook was created by Becky Vandewalle based off of prior work by Dandong Yin."
   ]
  },
  {
   "cell_type": "markdown",
   "metadata": {},
   "source": [
    "## Notebook Outline:\n",
    "- [Introduction](#intro)\n",
    "- [Setup](#setup) (run this first!)\n",
    "- [Python Fundamentals](#py_fund)\n",
    "    - [Python as a Calculator](#py_calc)\n",
    "    - [Comments](#py_comment)\n",
    "    - [Creating variables](#py_creat_var)\n",
    "    - [Whitespace](#py_whitespace)\n",
    "    - [Basic Object Types](#py_basic_obj)\n",
    "    - [Boolean Operators and Comparisons](#py_bool_compar)\n",
    "    - [Control Flow](#py_contl_flow)\n",
    "    - [Importing Libraries](#py_import)\n",
    "    - [Loop Structures](#py_loops)\n",
    "    - [List Comprehension](#py_list_comp)\n",
    "    - [Custom Functions](#py_func)\n",
    "    - [File Operations](#py_file_ops)\n",
    "- [Geospatial Data Processing](#geos_data_proc)\n",
    "    - [Basic Plotting](#basic_plot)\n",
    "    - [Basic Image Visualization](#basic_vis)"
   ]
  },
  {
   "cell_type": "markdown",
   "metadata": {},
   "source": [
    "<a id='intro'></a>\n",
    "## Introduction"
   ]
  },
  {
   "cell_type": "markdown",
   "metadata": {},
   "source": [
    "Python is a commonly used scripting language that is popular due to its accessibility. While this notebook covers Python 2.7, many concepts are similar to Python 3.\n",
    ">General documentation: https://docs.python.org/2.7/\n",
    "<br>Python tutorial: https://docs.python.org/2.7/tutorial/index.html"
   ]
  },
  {
   "cell_type": "markdown",
   "metadata": {},
   "source": [
    "<a id='setup'></a>\n",
    "## Setup\n",
    "Run this cell for the rest of the notebook to work!"
   ]
  },
  {
   "cell_type": "code",
   "execution_count": null,
   "metadata": {},
   "outputs": [],
   "source": [
    "# import required libraries\n",
    "\n",
    "%matplotlib inline\n",
    "import os\n",
    "import json\n",
    "import rasterio\n",
    "import time\n",
    "\n",
    "#execfile(os.path.join('/share/pyintro_resources/','highlight_feats.py'))\n",
    "\n",
    "filename = os.path.join('pyintro_resources/','highlight_feats.py')\n",
    "exec(compile(open(filename, \"rb\").read(), filename, 'exec'))"
   ]
  },
  {
   "cell_type": "markdown",
   "metadata": {},
   "source": [
    "<a id='py_fund'></a>\n",
    "## Python Fundamentals"
   ]
  },
  {
   "cell_type": "markdown",
   "metadata": {},
   "source": [
    "This section will provide a brief overview of basic concepts and operations in Python."
   ]
  },
  {
   "cell_type": "markdown",
   "metadata": {},
   "source": [
    "<a id='py_calc'></a>\n",
    "### Python as a Calculator"
   ]
  },
  {
   "cell_type": "markdown",
   "metadata": {},
   "source": [
    "A simple, yet powerful attribute of Python is how you can use it to calculate basic numeric operations. This is useful for getting a first introduction to the language. You can type a sequence of numbers and operators into a cell to get a result like a calculator. Parentheses can be used to order operations.\n",
    "> See a list of useful operators [here](https://www.python-course.eu/python3_operators.php).\n",
    "\n",
    "Try running these cells to see how it works:"
   ]
  },
  {
   "cell_type": "code",
   "execution_count": null,
   "metadata": {},
   "outputs": [],
   "source": [
    "3 + 4"
   ]
  },
  {
   "cell_type": "code",
   "execution_count": null,
   "metadata": {},
   "outputs": [],
   "source": [
    "2 * 4"
   ]
  },
  {
   "cell_type": "code",
   "execution_count": null,
   "metadata": {},
   "outputs": [],
   "source": [
    "2 ** 4"
   ]
  },
  {
   "cell_type": "code",
   "execution_count": null,
   "metadata": {},
   "outputs": [],
   "source": [
    "10 / 3"
   ]
  },
  {
   "cell_type": "code",
   "execution_count": null,
   "metadata": {},
   "outputs": [],
   "source": [
    "10.0 / 3"
   ]
  },
  {
   "cell_type": "code",
   "execution_count": null,
   "metadata": {},
   "outputs": [],
   "source": [
    "10 % 3"
   ]
  },
  {
   "cell_type": "code",
   "execution_count": null,
   "metadata": {},
   "outputs": [],
   "source": [
    "250 / (5 + 5) * (7 - 3)"
   ]
  },
  {
   "cell_type": "markdown",
   "metadata": {},
   "source": [
    "Pressing <b>Return</b> within a cell will create a new line in the cell code. When you run a cell, it will print the last value calculated unless you use Python's `print` statement to print earlier values."
   ]
  },
  {
   "cell_type": "code",
   "execution_count": null,
   "metadata": {},
   "outputs": [],
   "source": [
    "2 + 3\n",
    "4 + 6"
   ]
  },
  {
   "cell_type": "markdown",
   "metadata": {},
   "source": [
    "In the cell above, the value of `2 + 3` isn't shown because `4 + 6` is calculated and returned after."
   ]
  },
  {
   "cell_type": "code",
   "execution_count": null,
   "metadata": {},
   "outputs": [],
   "source": [
    "print(2 + 3)\n",
    "4 + 6"
   ]
  },
  {
   "cell_type": "markdown",
   "metadata": {},
   "source": [
    "Now both values are shown because `print` was explicitly called for `2 + 3`."
   ]
  },
  {
   "cell_type": "markdown",
   "metadata": {},
   "source": [
    "Note that some operators are <b>not automatically available</b> in the core Python library. For example, did you see a square root operator above? You can access additional functions using additional Python libraries (more on libraries [later](#py_import))."
   ]
  },
  {
   "cell_type": "code",
   "execution_count": null,
   "metadata": {},
   "outputs": [],
   "source": [
    "import math\n",
    "math.sqrt(16)"
   ]
  },
  {
   "cell_type": "markdown",
   "metadata": {},
   "source": [
    "The square root function is available with the <b>Math</b> library."
   ]
  },
  {
   "cell_type": "markdown",
   "metadata": {},
   "source": [
    "<a id='py_comment'></a>\n",
    "### Comments"
   ]
  },
  {
   "cell_type": "markdown",
   "metadata": {},
   "source": [
    "Using a pound sign (`#`) in a Python line will create a <b>comment</b>. Comments don't have to be at the start of a line, but note that any part of the line after the pound sign will be considered a comment (unless it is part of a [string](#strings)), so you can't place comments in the middle of a data type that is expecting a specific character (like a closing a parenthesis or bracket in a [list](#list))."
   ]
  },
  {
   "cell_type": "code",
   "execution_count": null,
   "metadata": {},
   "outputs": [],
   "source": [
    "# this is a comment\n",
    "\n",
    "4 + 2 # this is another comment"
   ]
  },
  {
   "cell_type": "code",
   "execution_count": null,
   "metadata": {},
   "outputs": [],
   "source": [
    "# this cell will fail to run!\n",
    "\n",
    "mylist = [1, 2, # comment]"
   ]
  },
  {
   "cell_type": "code",
   "execution_count": null,
   "metadata": {},
   "outputs": [],
   "source": [
    "# but this works (more on lists below)\n",
    "\n",
    "mylist = [1, 2, # comment\n",
    "         ]"
   ]
  },
  {
   "cell_type": "code",
   "execution_count": null,
   "metadata": {},
   "outputs": [],
   "source": [
    "# this pound sign does not start a comment\n",
    "# it is within a string!\n",
    "\n",
    "mystring = 'hi # comment?'\n",
    "mystring"
   ]
  },
  {
   "cell_type": "markdown",
   "metadata": {},
   "source": [
    "<a id='py_creat_var'></a>"
   ]
  },
  {
   "cell_type": "markdown",
   "metadata": {},
   "source": [
    "### Creating variables"
   ]
  },
  {
   "cell_type": "markdown",
   "metadata": {},
   "source": [
    "To create a simple variable, type the <b>variable name</b>, the <b>equals (`=`) sign</b>, and the <b>variable value</b>. For example:"
   ]
  },
  {
   "cell_type": "code",
   "execution_count": null,
   "metadata": {},
   "outputs": [],
   "source": [
    "a = 1\n",
    "b = 4"
   ]
  },
  {
   "cell_type": "markdown",
   "metadata": {},
   "source": [
    "Here `a` is a variable, and its value is set to `1`. You can print the variable name to show its value, or type the variable name in the last line of the cell to see the value."
   ]
  },
  {
   "cell_type": "code",
   "execution_count": null,
   "metadata": {},
   "outputs": [],
   "source": [
    "print(a)\n",
    "b"
   ]
  },
  {
   "cell_type": "markdown",
   "metadata": {},
   "source": [
    "Variable <b>names</b> must begin with an alphabetic character (`a`-`z`), digit (`0`-`9`), or underscore (`_`). Variable names are <b>case sensitive</b>!"
   ]
  },
  {
   "cell_type": "code",
   "execution_count": null,
   "metadata": {},
   "outputs": [],
   "source": [
    "One = 1\n",
    "one = 1.0\n",
    "print(One) # these are different\n",
    "print(one)"
   ]
  },
  {
   "cell_type": "code",
   "execution_count": null,
   "metadata": {},
   "outputs": [],
   "source": [
    "# this will fail - not a valid variable name\n",
    "\n",
    "*hi = 'hi'"
   ]
  },
  {
   "cell_type": "markdown",
   "metadata": {},
   "source": [
    "<a id='py_whitespace'></a>\n",
    "### Whitespace"
   ]
  },
  {
   "cell_type": "markdown",
   "metadata": {},
   "source": [
    "<b>Blank lines</b> between code lines are ignored, so you can use blank lines to group things for ease of reading."
   ]
  },
  {
   "cell_type": "code",
   "execution_count": null,
   "metadata": {},
   "outputs": [],
   "source": [
    "a = 1\n",
    "b = 4\n",
    "\n",
    "c = 'cat'"
   ]
  },
  {
   "cell_type": "markdown",
   "metadata": {},
   "source": [
    "White space <b>within</b> a line is often ignored, so you can condense, align, or spread out code for clarity."
   ]
  },
  {
   "cell_type": "code",
   "execution_count": null,
   "metadata": {},
   "outputs": [],
   "source": [
    "# these are all equivalent\n",
    "\n",
    "a=3#comment\n",
    "a = 3 # comment\n",
    "a    =    3       #      comment"
   ]
  },
  {
   "cell_type": "markdown",
   "metadata": {},
   "source": [
    "However, space is needed after or between <b>key words</b> and <b>commands</b> so Python can parse them properly."
   ]
  },
  {
   "cell_type": "code",
   "execution_count": null,
   "metadata": {},
   "outputs": [],
   "source": [
    "# Not a good Example for Python 3\n",
    "# prints a\n",
    "\n",
    "print(a)"
   ]
  },
  {
   "cell_type": "code",
   "execution_count": null,
   "metadata": {},
   "outputs": [],
   "source": [
    "# fails - no command or variable called 'printa' exists\n",
    "\n",
    "printa"
   ]
  },
  {
   "cell_type": "markdown",
   "metadata": {},
   "source": [
    "White space <b>in the front of</b> a line is <b>very important</b> for python to work correctly. When typing code in a cell, make sure each regular line starts at the very beginning of the line with no leading space."
   ]
  },
  {
   "cell_type": "code",
   "execution_count": null,
   "metadata": {},
   "outputs": [],
   "source": [
    "# this works\n",
    "\n",
    "a = 2\n",
    "b = 3"
   ]
  },
  {
   "cell_type": "code",
   "execution_count": null,
   "metadata": {},
   "outputs": [],
   "source": [
    "# this will fail\n",
    "\n",
    "a = 2\n",
    " b = 3"
   ]
  },
  {
   "cell_type": "markdown",
   "metadata": {},
   "source": [
    "<b>Indentation</b>, typically using <b>Tab</b>, represents a group of lines (called a <b>code block</b>) that are related to the last unindented line. Each indented line in a cell needs to match up with all the other lines that are indented the same amount of times and the same amount of space (again usually in increments of Tab) needs to occur before each indented line. Although you can indent code blocks with spaces instead of Tabs, it is often easier to use Tab (and you need to be consistent throughout a script or within a cell)."
   ]
  },
  {
   "cell_type": "code",
   "execution_count": null,
   "metadata": {},
   "outputs": [],
   "source": [
    "# example of indented block\n",
    "\n",
    "a = 2\n",
    "if a:\n",
    "    print('a exists')"
   ]
  },
  {
   "cell_type": "code",
   "execution_count": null,
   "metadata": {},
   "outputs": [],
   "source": [
    "# you can have multiple indentation levels\n",
    "\n",
    "a = 2\n",
    "if a:\n",
    "    print('a exists')\n",
    "b = 3\n",
    "if b:\n",
    "    print('b exists')\n",
    "if a:\n",
    "    if b:\n",
    "        print('a and b exist')"
   ]
  },
  {
   "cell_type": "code",
   "execution_count": null,
   "metadata": {},
   "outputs": [],
   "source": [
    "# indent with spaces\n",
    "# this works, but Jupyter notebook will highlight keywords in red because it expects Tab\n",
    "a = 2\n",
    "if a:\n",
    "  print('a exists')\n",
    "b = 3\n",
    "if b:\n",
    "  print ('b exists')"
   ]
  },
  {
   "cell_type": "code",
   "execution_count": null,
   "metadata": {},
   "outputs": [],
   "source": [
    "# this works but is --NOT-- recommended - make sure your indents match!\n",
    "\n",
    "a = 2\n",
    "if a:\n",
    "  print ('a exists')\n",
    "b = 3\n",
    "if b:\n",
    "    print ('b exists')"
   ]
  },
  {
   "cell_type": "code",
   "execution_count": null,
   "metadata": {},
   "outputs": [],
   "source": [
    "# this doesn't work\n",
    "# indentation is not consistent within a code block\n",
    "\n",
    "a = 2\n",
    "if a:\n",
    "  print ('a exists')\n",
    "    print ('not sure if b exists')"
   ]
  },
  {
   "cell_type": "markdown",
   "metadata": {},
   "source": [
    "<a id='py_basic_obj'></a>\n",
    "### Basic Object Types"
   ]
  },
  {
   "cell_type": "markdown",
   "metadata": {},
   "source": [
    "Python has a variety of basic variable types, and we have already seen a few! See some further examples below. The <b>type</b> function can indicate an object or variable's type."
   ]
  },
  {
   "cell_type": "markdown",
   "metadata": {},
   "source": [
    "Basic <b>numeric</b> types:"
   ]
  },
  {
   "cell_type": "code",
   "execution_count": null,
   "metadata": {},
   "outputs": [],
   "source": [
    "1    # integer\n",
    "1.0  # float"
   ]
  },
  {
   "cell_type": "code",
   "execution_count": null,
   "metadata": {},
   "outputs": [],
   "source": [
    "print(type(1))\n",
    "print(type(1.0))"
   ]
  },
  {
   "cell_type": "code",
   "execution_count": null,
   "metadata": {},
   "outputs": [],
   "source": [
    "# convert between types\n",
    "\n",
    "print(float(1))\n",
    "print(int(1.23)) # truncates\n",
    "print(int(1.83)) # does not round"
   ]
  },
  {
   "cell_type": "markdown",
   "metadata": {},
   "source": [
    "<b>None</b> type:\n",
    "<br><br>None is a special designation to indicate that the variable exists but has not been assigned to a particular value."
   ]
  },
  {
   "cell_type": "code",
   "execution_count": null,
   "metadata": {},
   "outputs": [],
   "source": [
    "a = None\n",
    "print(a)"
   ]
  },
  {
   "cell_type": "markdown",
   "metadata": {},
   "source": [
    "<b>Boolean</b> types:"
   ]
  },
  {
   "cell_type": "markdown",
   "metadata": {},
   "source": [
    "A special type is a Boolean variable. This designates a variable as `True` or `False` (note the case!). "
   ]
  },
  {
   "cell_type": "code",
   "execution_count": null,
   "metadata": {},
   "outputs": [],
   "source": [
    "a = True\n",
    "b = False"
   ]
  },
  {
   "cell_type": "code",
   "execution_count": null,
   "metadata": {},
   "outputs": [],
   "source": [
    "# this fails because a variable 'true' hasn't been defined\n",
    "\n",
    "a = true"
   ]
  },
  {
   "cell_type": "markdown",
   "metadata": {},
   "source": [
    "You can check if a variable is `True` or `False` like this:"
   ]
  },
  {
   "cell_type": "code",
   "execution_count": null,
   "metadata": {},
   "outputs": [],
   "source": [
    "a is True"
   ]
  },
  {
   "cell_type": "code",
   "execution_count": null,
   "metadata": {},
   "outputs": [],
   "source": [
    "print(a is False)\n",
    "print(b is True)\n",
    "print(b is False)"
   ]
  },
  {
   "cell_type": "markdown",
   "metadata": {},
   "source": [
    "There are special cases where other types of variables evaluate to `True` or `False`. While most variable values evaluate to `True`, variables set to `None`, equal to `0`, `0.0` or equivalent, or empty are `False`. Note that evaluating to `True` or `False` is not the same as being assigned to `True` or `False`."
   ]
  },
  {
   "cell_type": "code",
   "execution_count": null,
   "metadata": {},
   "outputs": [],
   "source": [
    "# will evaluate code block if a evaluates to true\n",
    "\n",
    "a = 3\n",
    "if a:\n",
    "    print('a')"
   ]
  },
  {
   "cell_type": "code",
   "execution_count": null,
   "metadata": {},
   "outputs": [],
   "source": [
    "# here, b evaluates to false; nothing prints\n",
    "\n",
    "b = 0\n",
    "if b:\n",
    "    print ('b')"
   ]
  },
  {
   "cell_type": "code",
   "execution_count": null,
   "metadata": {},
   "outputs": [],
   "source": [
    "# a evaluates to True but does not equal true\n",
    "\n",
    "a = 3\n",
    "a is True"
   ]
  },
  {
   "cell_type": "markdown",
   "metadata": {},
   "source": [
    "<b>Strings</b>: <a id='strings'></a>\n",
    "<br><br>\n",
    "A <b>string</b> is a sequence of alpha-numeric characters:"
   ]
  },
  {
   "cell_type": "code",
   "execution_count": null,
   "metadata": {},
   "outputs": [],
   "source": [
    "'hello'\n",
    "'cloud9'"
   ]
  },
  {
   "cell_type": "code",
   "execution_count": null,
   "metadata": {},
   "outputs": [],
   "source": [
    "type('hello')"
   ]
  },
  {
   "cell_type": "markdown",
   "metadata": {},
   "source": [
    "<b>Accents</b> and <b>Unicode characters</b> are supported, but may cause issues with string functions if not handled carefully."
   ]
  },
  {
   "cell_type": "code",
   "execution_count": null,
   "metadata": {},
   "outputs": [],
   "source": [
    "cafe = 'café'\n",
    "cafe"
   ]
  },
  {
   "cell_type": "code",
   "execution_count": null,
   "metadata": {},
   "outputs": [],
   "source": [
    "print (cafe)"
   ]
  },
  {
   "cell_type": "markdown",
   "metadata": {},
   "source": [
    "A '`u`' in front of a string designates it as unicode. You can copy unicode characters to use to set a variable like this:"
   ]
  },
  {
   "cell_type": "code",
   "execution_count": null,
   "metadata": {},
   "outputs": [],
   "source": [
    "hello = u'你好'\n",
    "hello"
   ]
  },
  {
   "cell_type": "code",
   "execution_count": null,
   "metadata": {},
   "outputs": [],
   "source": [
    "print (hello)"
   ]
  },
  {
   "cell_type": "markdown",
   "metadata": {},
   "source": [
    "Or you can define unicode characters using an <b>escape sequence</b>. Here '\\u4f60' refers to 你. "
   ]
  },
  {
   "cell_type": "code",
   "execution_count": null,
   "metadata": {},
   "outputs": [],
   "source": [
    "hello2 = u'\\u4f60\\u597d'\n",
    "hello2"
   ]
  },
  {
   "cell_type": "code",
   "execution_count": null,
   "metadata": {},
   "outputs": [],
   "source": [
    "print (hello2)"
   ]
  },
  {
   "cell_type": "markdown",
   "metadata": {},
   "source": [
    "<b>Escaping characters</b>:\n",
    "\n",
    "<b>Escape characters</b> reference special characters that are part of a string but can't be directly typed into a string. For example, you can not include a single quote (`'`) in a string unless it is escaped. To escape a special character, prefix it with the back slash (`\\`).\n",
    ">See a list of escape characters [here](https://linuxconfig.org/list-of-python-escape-sequence-characters-with-examples)"
   ]
  },
  {
   "cell_type": "code",
   "execution_count": null,
   "metadata": {},
   "outputs": [],
   "source": [
    "# a new line \\n is a common escape character\n",
    "\n",
    "new_line_str = 'hi\\nhi2'\n",
    "new_line_str"
   ]
  },
  {
   "cell_type": "code",
   "execution_count": null,
   "metadata": {},
   "outputs": [],
   "source": [
    "# it prints with the new line\n",
    "\n",
    "print (new_line_str)"
   ]
  },
  {
   "cell_type": "code",
   "execution_count": null,
   "metadata": {},
   "outputs": [],
   "source": [
    "print ('don\\'t', 'path\\\\to\\\\file')"
   ]
  },
  {
   "cell_type": "markdown",
   "metadata": {},
   "source": [
    "<b>'Smart Quotes'</b>:\n",
    "\n",
    "Be careful when copying text that uses 'smart quotes', these are quotation marks and apostrophes that are curved. Python does't recognize these characters!\n",
    "\n",
    "<table align=\"left\"><tr><td><b>Use this!</b></td><td><b>Not this!</b></td><td></td><td></td>\n",
    "    <td><b>Use this!</b></td><td><b>Not this!</b></td></tr>\n",
    "    <tr><td><font size=6>\"</font></td><td><font size=6>“</font></td><td></td><td></td>\n",
    "    <td><font size=6>'</font></td><td><font size=6>‘</font></td></tr>\n",
    "    <tr><td><font size=6>\"</font></td><td><font size=6>”</font></td><td></td><td></td>\n",
    "    <td><font size=6>'</font></td><td><font size=6>’</font></td></tr>\n",
    "</table>"
   ]
  },
  {
   "cell_type": "code",
   "execution_count": null,
   "metadata": {},
   "outputs": [],
   "source": [
    "# this cell will fail\n",
    "\n",
    "copy_text = “Hello there”"
   ]
  },
  {
   "cell_type": "markdown",
   "metadata": {},
   "source": [
    "Other types of sequences include <b>lists</b> and <b>tuples</b>. <a id='list'></a> Elements in a list can be changed, but elements in a tuple can not unless a new tuple is created. "
   ]
  },
  {
   "cell_type": "code",
   "execution_count": null,
   "metadata": {},
   "outputs": [],
   "source": [
    "# lists are created using square brackets\n",
    "\n",
    "mylist = [1, 2, 3]\n",
    "mylist"
   ]
  },
  {
   "cell_type": "code",
   "execution_count": null,
   "metadata": {},
   "outputs": [],
   "source": [
    "# you can add a value to a list after making it\n",
    "\n",
    "mylist.append(4)\n",
    "mylist"
   ]
  },
  {
   "cell_type": "code",
   "execution_count": null,
   "metadata": {},
   "outputs": [],
   "source": [
    "# tuple are created using parentheses\n",
    "\n",
    "mytuple = (1, 2, 3)\n",
    "mytuple"
   ]
  },
  {
   "cell_type": "code",
   "execution_count": null,
   "metadata": {},
   "outputs": [],
   "source": [
    "# you can't add a value to a tuple\n",
    "\n",
    "mytuple.append(4)"
   ]
  },
  {
   "cell_type": "code",
   "execution_count": null,
   "metadata": {},
   "outputs": [],
   "source": [
    "# this works because newtuple is a new tuple, but may not work as you would expect!\n",
    "\n",
    "newtuple = (mytuple, 4)\n",
    "newtuple"
   ]
  },
  {
   "cell_type": "markdown",
   "metadata": {},
   "source": [
    "You can select a specific value of a list or tuple using <b>square brackets</b> around the item's <b>index</b>. These need to be directly at the end of the variable name. Python index values start from `0`. "
   ]
  },
  {
   "cell_type": "code",
   "execution_count": null,
   "metadata": {},
   "outputs": [],
   "source": [
    "# select by index\n",
    "\n",
    "print (mylist[2])\n",
    "print (mytuple[0])"
   ]
  },
  {
   "cell_type": "markdown",
   "metadata": {},
   "source": [
    "`:` is a special value that will select all items."
   ]
  },
  {
   "cell_type": "code",
   "execution_count": null,
   "metadata": {},
   "outputs": [],
   "source": [
    "# select all\n",
    "\n",
    "print (mylist[:])"
   ]
  },
  {
   "cell_type": "markdown",
   "metadata": {},
   "source": [
    "Using a negative index value will count from the back. It starts with `-1`."
   ]
  },
  {
   "cell_type": "code",
   "execution_count": null,
   "metadata": {},
   "outputs": [],
   "source": [
    "print (mytuple[-1])"
   ]
  },
  {
   "cell_type": "markdown",
   "metadata": {},
   "source": [
    "It is possible to stack indices to select an item in a multi-level list."
   ]
  },
  {
   "cell_type": "code",
   "execution_count": null,
   "metadata": {},
   "outputs": [],
   "source": [
    "# multi-level index\n",
    "\n",
    "nested_list = [[1, 2], [3, 4]]\n",
    "nested_list[0][1] # select first list, then second item"
   ]
  },
  {
   "cell_type": "markdown",
   "metadata": {},
   "source": [
    "You can change and delete values from a list using the index."
   ]
  },
  {
   "cell_type": "code",
   "execution_count": null,
   "metadata": {},
   "outputs": [],
   "source": [
    "# change last list item\n",
    "\n",
    "nested_list[-1] = [4, 5]\n",
    "nested_list"
   ]
  },
  {
   "cell_type": "code",
   "execution_count": null,
   "metadata": {},
   "outputs": [],
   "source": [
    "# delete list value\n",
    "\n",
    "del nested_list[0][0]\n",
    "nested_list"
   ]
  },
  {
   "cell_type": "markdown",
   "metadata": {},
   "source": [
    "<b>Dictionaries</b>:\n",
    "   \n",
    "<b>Dictionaries</b> are a collection of <b>unordered</b> key-value pairs."
   ]
  },
  {
   "cell_type": "code",
   "execution_count": null,
   "metadata": {},
   "outputs": [],
   "source": [
    "# lists are created using curly braces\n",
    "\n",
    "pet_list = {'alice':'cat', 'becky':'cat', 'chaoli': 'parrot', 'dan':'dog'}\n",
    "pet_list"
   ]
  },
  {
   "cell_type": "code",
   "execution_count": null,
   "metadata": {},
   "outputs": [],
   "source": [
    "print (pet_list)"
   ]
  },
  {
   "cell_type": "markdown",
   "metadata": {},
   "source": [
    "<b>Dictionaries</b> have <b>keys</b> and <b>values</b>. This is similar to a physical dictionary - you look up a word to find its definition."
   ]
  },
  {
   "cell_type": "code",
   "execution_count": null,
   "metadata": {},
   "outputs": [],
   "source": [
    "# list all keys\n",
    "\n",
    "pet_list.keys()"
   ]
  },
  {
   "cell_type": "code",
   "execution_count": null,
   "metadata": {},
   "outputs": [],
   "source": [
    "# list all values\n",
    "\n",
    "pet_list.values()"
   ]
  },
  {
   "cell_type": "markdown",
   "metadata": {},
   "source": [
    "You can find which specifically value goes with which key by using the key as the index."
   ]
  },
  {
   "cell_type": "code",
   "execution_count": null,
   "metadata": {},
   "outputs": [],
   "source": [
    "pet_list['dan']"
   ]
  },
  {
   "cell_type": "markdown",
   "metadata": {},
   "source": [
    "Like lists, you can change dictionary keys and values after the fact. "
   ]
  },
  {
   "cell_type": "code",
   "execution_count": null,
   "metadata": {},
   "outputs": [],
   "source": [
    "# add a key/value pair\n",
    "\n",
    "pet_list['ewan'] = 'bunny'\n",
    "pet_list"
   ]
  },
  {
   "cell_type": "markdown",
   "metadata": {},
   "source": [
    "It's good to check if a key/value pair exists before deleting a value."
   ]
  },
  {
   "cell_type": "code",
   "execution_count": null,
   "metadata": {},
   "outputs": [],
   "source": [
    "# delete a key/value pair\n",
    "\n",
    "if 'alice' in pet_list.keys():\n",
    "    del pet_list['alice']\n",
    "pet_list"
   ]
  },
  {
   "cell_type": "markdown",
   "metadata": {},
   "source": [
    "Dictionaries can be nested."
   ]
  },
  {
   "cell_type": "code",
   "execution_count": null,
   "metadata": {},
   "outputs": [],
   "source": [
    "pet_list_ext = {'alice': {'type':'cat', 'age':3}, \n",
    "            'becky': {'type':'cat', 'age':9}, \n",
    "            'chaoli': {'type':'parrot', 'age':23}, \n",
    "            'dan': {'type':'dog', 'age':7.5}}\n",
    "pet_list"
   ]
  },
  {
   "cell_type": "markdown",
   "metadata": {},
   "source": [
    "Use the double named index selection to retrieve values in nested dictionaries."
   ]
  },
  {
   "cell_type": "code",
   "execution_count": null,
   "metadata": {},
   "outputs": [],
   "source": [
    "pet_list_ext['chaoli']['type']"
   ]
  },
  {
   "cell_type": "markdown",
   "metadata": {},
   "source": [
    "<a id='py_bool_compar'></a>\n",
    "### Boolean Operators and Comparisons"
   ]
  },
  {
   "cell_type": "markdown",
   "metadata": {},
   "source": [
    "<b>Boolean Operators</b> are used to evaluate combinations of either Boolean variables or other variables through evaluation. The operators are <b>`and`</b>, <b>`or`</b>, and <b>`not`</b>.\n",
    "    \n",
    "Try to guess what will be returned for each combination below!"
   ]
  },
  {
   "cell_type": "code",
   "execution_count": null,
   "metadata": {},
   "outputs": [],
   "source": [
    "True and True"
   ]
  },
  {
   "cell_type": "code",
   "execution_count": null,
   "metadata": {},
   "outputs": [],
   "source": [
    "True and False"
   ]
  },
  {
   "cell_type": "code",
   "execution_count": null,
   "metadata": {},
   "outputs": [],
   "source": [
    "False and False"
   ]
  },
  {
   "cell_type": "code",
   "execution_count": null,
   "metadata": {},
   "outputs": [],
   "source": [
    "True or True"
   ]
  },
  {
   "cell_type": "code",
   "execution_count": null,
   "metadata": {},
   "outputs": [],
   "source": [
    "True or False"
   ]
  },
  {
   "cell_type": "code",
   "execution_count": null,
   "metadata": {},
   "outputs": [],
   "source": [
    "not True"
   ]
  },
  {
   "cell_type": "code",
   "execution_count": null,
   "metadata": {},
   "outputs": [],
   "source": [
    "not False"
   ]
  },
  {
   "cell_type": "code",
   "execution_count": null,
   "metadata": {},
   "outputs": [],
   "source": [
    "if (1 and 'hi'): # through evaluation\n",
    "    print('OK')"
   ]
  },
  {
   "cell_type": "code",
   "execution_count": null,
   "metadata": {},
   "outputs": [],
   "source": [
    "if (0 and 'hi'): # through evaluation\n",
    "    print('OK')"
   ]
  },
  {
   "cell_type": "markdown",
   "metadata": {},
   "source": [
    "<b>Comparisons</b> are used to evaluate relative values (ex. is x greater than y), equivalence, or identity. A few examples are shown below."
   ]
  },
  {
   "cell_type": "code",
   "execution_count": null,
   "metadata": {},
   "outputs": [],
   "source": [
    "1 > 2"
   ]
  },
  {
   "cell_type": "code",
   "execution_count": null,
   "metadata": {},
   "outputs": [],
   "source": [
    "1 < 2"
   ]
  },
  {
   "cell_type": "code",
   "execution_count": null,
   "metadata": {},
   "outputs": [],
   "source": [
    "1 >= 2"
   ]
  },
  {
   "cell_type": "code",
   "execution_count": null,
   "metadata": {},
   "outputs": [],
   "source": [
    "1 <= 2"
   ]
  },
  {
   "cell_type": "markdown",
   "metadata": {},
   "source": [
    "<b>NOTE!</b> Testing for equivalence needs <b>two</b> equal signs, not one!"
   ]
  },
  {
   "cell_type": "code",
   "execution_count": null,
   "metadata": {},
   "outputs": [],
   "source": [
    "# are these equal?\n",
    "\n",
    "1 == 1 "
   ]
  },
  {
   "cell_type": "code",
   "execution_count": null,
   "metadata": {},
   "outputs": [],
   "source": [
    "# this fails\n",
    "\n",
    "1 = 1"
   ]
  },
  {
   "cell_type": "code",
   "execution_count": null,
   "metadata": {},
   "outputs": [],
   "source": [
    "1 != 2 # is not equal to"
   ]
  },
  {
   "cell_type": "markdown",
   "metadata": {},
   "source": [
    "<b>`is`</b> and <b>`is not`</b> can also be used for comparisons."
   ]
  },
  {
   "cell_type": "code",
   "execution_count": null,
   "metadata": {},
   "outputs": [],
   "source": [
    "1 is 2"
   ]
  },
  {
   "cell_type": "code",
   "execution_count": null,
   "metadata": {},
   "outputs": [],
   "source": [
    "1 is not 2"
   ]
  },
  {
   "cell_type": "markdown",
   "metadata": {},
   "source": [
    "You can use <b>`in`</b> and <b>`not in`</b> to see if a value is part of a sequence."
   ]
  },
  {
   "cell_type": "code",
   "execution_count": null,
   "metadata": {},
   "outputs": [],
   "source": [
    "1 in (1, 2, 3)"
   ]
  },
  {
   "cell_type": "code",
   "execution_count": null,
   "metadata": {},
   "outputs": [],
   "source": [
    "1 not in (1, 2, 3)"
   ]
  },
  {
   "cell_type": "markdown",
   "metadata": {},
   "source": [
    "<a id='py_import'></a>"
   ]
  },
  {
   "cell_type": "markdown",
   "metadata": {},
   "source": [
    "### Importing Libraries"
   ]
  },
  {
   "cell_type": "markdown",
   "metadata": {},
   "source": [
    "There are a few different ways to <b>import</b> a Python library or specific function from a library. \n",
    "\n",
    "If you import an entire library, you need to preface a function in that library with the library name. For some commonly used libraries or ones with long names, it is common to give it a nickname when importing. If you import a specific function from a library, you can use that function without prefixing it with the library name."
   ]
  },
  {
   "cell_type": "code",
   "execution_count": null,
   "metadata": {},
   "outputs": [],
   "source": [
    "import time                        # import entire library\n",
    "import numpy as np                 # call numpy using np\n",
    "from math import sqrt              # just import square root function from math library\n",
    "from math import factorial as fac  # just import factorial function from math library, call it fac"
   ]
  },
  {
   "cell_type": "markdown",
   "metadata": {},
   "source": [
    "Be careful with your nicknames because you could potentially conflict with an existing function."
   ]
  },
  {
   "cell_type": "code",
   "execution_count": null,
   "metadata": {},
   "outputs": [],
   "source": [
    "# prints current time (seconds since January 1, 1970)\n",
    "\n",
    "print(time.time())"
   ]
  },
  {
   "cell_type": "code",
   "execution_count": null,
   "metadata": {},
   "outputs": [],
   "source": [
    "# call numpy function using nickname np for numpy\n",
    "\n",
    "np.array([2,3,4])"
   ]
  },
  {
   "cell_type": "code",
   "execution_count": null,
   "metadata": {},
   "outputs": [],
   "source": [
    "# can call sqrt function without having 'math.' in front\n",
    "\n",
    "sqrt(16) "
   ]
  },
  {
   "cell_type": "code",
   "execution_count": null,
   "metadata": {},
   "outputs": [],
   "source": [
    "# can call factorial function by nickname without having 'math.' in front\n",
    "\n",
    "fac(5)"
   ]
  },
  {
   "cell_type": "markdown",
   "metadata": {},
   "source": [
    "<a id='py_contl_flow'></a>\n",
    "### Control Flow"
   ]
  },
  {
   "cell_type": "markdown",
   "metadata": {},
   "source": [
    "Most of the time python programs run line by line, executing each statement in order from top to bottom. However, there are cases when certain lines should be skipped if some <b>condition occurs</b>, or a certain section of code should be <b>run many times</b>. Control flow tools are used to change the order or number of times lines or code sections are run."
   ]
  },
  {
   "cell_type": "code",
   "execution_count": null,
   "metadata": {},
   "outputs": [],
   "source": [
    "# if a exists, print\n",
    "\n",
    "a = 3\n",
    "if a:\n",
    "    print ('a =', a)"
   ]
  },
  {
   "cell_type": "code",
   "execution_count": null,
   "metadata": {},
   "outputs": [],
   "source": [
    "# print elements in list\n",
    "\n",
    "mylist = [1, 2, 3]\n",
    "for i in mylist:\n",
    "    print (i, end=\" \")"
   ]
  },
  {
   "cell_type": "markdown",
   "metadata": {},
   "source": [
    "The `range` function returns a list of numbers from `0` to the specified number."
   ]
  },
  {
   "cell_type": "code",
   "execution_count": null,
   "metadata": {},
   "outputs": [],
   "source": [
    "range(5)"
   ]
  },
  {
   "cell_type": "code",
   "execution_count": null,
   "metadata": {},
   "outputs": [],
   "source": [
    "# print numbers in a certain range\n",
    "\n",
    "for i in range(5):\n",
    "    print (i, end=\" \")"
   ]
  },
  {
   "cell_type": "markdown",
   "metadata": {},
   "source": [
    "Certain keywords can affect how the loop functions:"
   ]
  },
  {
   "cell_type": "code",
   "execution_count": null,
   "metadata": {},
   "outputs": [],
   "source": [
    "# stop if 7 is reached\n",
    "\n",
    "for i in range(10):\n",
    "    if i == 7:\n",
    "        break\n",
    "    print (i, end=\" \")"
   ]
  },
  {
   "cell_type": "code",
   "execution_count": null,
   "metadata": {},
   "outputs": [],
   "source": [
    "# prints '- no break' if loop completed without break\n",
    "\n",
    "for i in range(10):\n",
    "    if i == 12:\n",
    "        break\n",
    "    print (i, end=\" \")\n",
    "else:\n",
    "    print ('- no break')"
   ]
  },
  {
   "cell_type": "code",
   "execution_count": null,
   "metadata": {},
   "outputs": [],
   "source": [
    "# skips even numbers, but continues through loop after\n",
    "\n",
    "for i in range(10):\n",
    "    if i % 2 == 0:\n",
    "        continue\n",
    "    print (i, end=\" \")"
   ]
  },
  {
   "cell_type": "markdown",
   "metadata": {},
   "source": [
    "Sometimes it is useful to have a placeholder in a loop. Here the loop loops, but due to the `pass` keyword it does nothing."
   ]
  },
  {
   "cell_type": "code",
   "execution_count": null,
   "metadata": {},
   "outputs": [],
   "source": [
    "# do nothing\n",
    "\n",
    "for i in range(10):\n",
    "    pass"
   ]
  },
  {
   "cell_type": "markdown",
   "metadata": {},
   "source": [
    "<b>While loops</b> are useful to continue for an unspecified amount of time until a certain condition is met. If there is no condition specified or nothing changes this loop will keep looping!"
   ]
  },
  {
   "cell_type": "code",
   "execution_count": null,
   "metadata": {},
   "outputs": [],
   "source": [
    "# while loop\n",
    "\n",
    "a = 0\n",
    "while a < 10:\n",
    "    print (a, end=\" \")\n",
    "    a += 1"
   ]
  },
  {
   "cell_type": "markdown",
   "metadata": {},
   "source": [
    "The `try`, `except`, and `finally` keywords are used to catch things that have failed. `finally` will always run, but `except` will only run if the specified error occurred."
   ]
  },
  {
   "cell_type": "code",
   "execution_count": null,
   "metadata": {},
   "outputs": [],
   "source": [
    "try:\n",
    "    1 / 0\n",
    "except ZeroDivisionError:\n",
    "    print(\"that didn't work\")\n",
    "finally:\n",
    "    print('end')"
   ]
  },
  {
   "cell_type": "code",
   "execution_count": null,
   "metadata": {},
   "outputs": [],
   "source": [
    "try:\n",
    "    1 / 1\n",
    "except ZeroDivisionError:\n",
    "    print (\"that didn't work\")\n",
    "finally:\n",
    "    print ('end')"
   ]
  },
  {
   "cell_type": "markdown",
   "metadata": {},
   "source": [
    "You can also have a general `except` clause to catch any type of error."
   ]
  },
  {
   "cell_type": "code",
   "execution_count": null,
   "metadata": {},
   "outputs": [],
   "source": [
    "try:\n",
    "    1 / 0\n",
    "except:\n",
    "    print (\"that didn't work\")\n",
    "finally:\n",
    "    print ('end')"
   ]
  },
  {
   "cell_type": "markdown",
   "metadata": {},
   "source": [
    "<a id='py_list_comp'></a>\n",
    "### List Comprehension"
   ]
  },
  {
   "cell_type": "markdown",
   "metadata": {},
   "source": [
    "<b>List Comprehension</b> is a quick way to run through a loop. The following two cells create the same resulting list."
   ]
  },
  {
   "cell_type": "code",
   "execution_count": null,
   "metadata": {},
   "outputs": [],
   "source": [
    "mylist = []\n",
    "for i in range(5):\n",
    "    mylist.append(i * 2)\n",
    "mylist"
   ]
  },
  {
   "cell_type": "code",
   "execution_count": null,
   "metadata": {},
   "outputs": [],
   "source": [
    "mylist = [i*2 for i in range(5)]\n",
    "mylist"
   ]
  },
  {
   "cell_type": "markdown",
   "metadata": {},
   "source": [
    "<a id='py_func'></a>\n",
    "### Custom Functions"
   ]
  },
  {
   "cell_type": "markdown",
   "metadata": {},
   "source": [
    "It is useful to create custom functions when you want to <b>reuse sections</b> of code many times.\n",
    "\n",
    "The `def` keyword is used to start a function definition. Arguments that the function expects to receive are listed between parentheses before the `:`."
   ]
  },
  {
   "cell_type": "code",
   "execution_count": null,
   "metadata": {},
   "outputs": [],
   "source": [
    "# define a function with no arguments\n",
    "\n",
    "def myfunct():\n",
    "    print ('hello')"
   ]
  },
  {
   "cell_type": "code",
   "execution_count": null,
   "metadata": {},
   "outputs": [],
   "source": [
    "# define a function with one argument\n",
    "\n",
    "def myfunct2(name):\n",
    "    print ('hello,', name)"
   ]
  },
  {
   "cell_type": "code",
   "execution_count": null,
   "metadata": {},
   "outputs": [],
   "source": [
    "# call the functions\n",
    "\n",
    "myfunct()\n",
    "myfunct2('Iekika')"
   ]
  },
  {
   "cell_type": "markdown",
   "metadata": {},
   "source": [
    "If you forget the parentheses in the function call Python will tell you about the function rather than calling it."
   ]
  },
  {
   "cell_type": "code",
   "execution_count": null,
   "metadata": {},
   "outputs": [],
   "source": [
    "myfunct"
   ]
  },
  {
   "cell_type": "markdown",
   "metadata": {},
   "source": [
    "<a id='py_file_ops'></a>\n",
    "### File Operations"
   ]
  },
  {
   "cell_type": "markdown",
   "metadata": {},
   "source": [
    "You can <b>open</b>, <b>read</b>, <b>write</b> files using Python."
   ]
  },
  {
   "cell_type": "code",
   "execution_count": null,
   "metadata": {},
   "outputs": [],
   "source": [
    "# open a file\n",
    "\n",
    "myfile = open('test_file.txt')\n",
    "myfile"
   ]
  },
  {
   "cell_type": "code",
   "execution_count": null,
   "metadata": {},
   "outputs": [],
   "source": [
    "# read file lines\n",
    "\n",
    "lines = myfile.readlines()\n",
    "lines"
   ]
  },
  {
   "cell_type": "code",
   "execution_count": null,
   "metadata": {},
   "outputs": [],
   "source": [
    "# print each line\n",
    "\n",
    "for line in lines:\n",
    "    print(line)"
   ]
  },
  {
   "cell_type": "code",
   "execution_count": null,
   "metadata": {},
   "outputs": [],
   "source": [
    "# print a specific line\n",
    "\n",
    "print(lines[3])"
   ]
  },
  {
   "cell_type": "markdown",
   "metadata": {},
   "source": [
    "It is important to <b>close the file</b> when you are finished accessing it!"
   ]
  },
  {
   "cell_type": "code",
   "execution_count": null,
   "metadata": {},
   "outputs": [],
   "source": [
    "# close file\n",
    "\n",
    "myfile.close()"
   ]
  },
  {
   "cell_type": "markdown",
   "metadata": {},
   "source": [
    "A trick is to use the <b>with statement</b> to read a file instead. The file will be closed automatically."
   ]
  },
  {
   "cell_type": "code",
   "execution_count": null,
   "metadata": {},
   "outputs": [],
   "source": [
    "# open with 'with' statement\n",
    "\n",
    "with open('test_file.txt') as newfile:\n",
    "    newlines = newfile.read()\n",
    "    \n",
    "newlines"
   ]
  },
  {
   "cell_type": "code",
   "execution_count": null,
   "metadata": {},
   "outputs": [],
   "source": [
    "# get current time\n",
    "\n",
    "nowtime = time.time()\n",
    "nowtime"
   ]
  },
  {
   "cell_type": "code",
   "execution_count": null,
   "metadata": {},
   "outputs": [],
   "source": [
    "# write to a file\n",
    "\n",
    "with open('write_me.txt', 'w') as wfile:\n",
    "\n",
    "    wfile.write('Hi there! ' + str(nowtime))"
   ]
  },
  {
   "cell_type": "code",
   "execution_count": null,
   "metadata": {},
   "outputs": [],
   "source": [
    "# read written file\n",
    "\n",
    "with open('write_me.txt') as rfile:\n",
    "    rlines = rfile.read()\n",
    "    \n",
    "rlines"
   ]
  },
  {
   "cell_type": "markdown",
   "metadata": {},
   "source": [
    "<a id='geos_data_proc'></a>\n",
    "## Geospatial Data Processing"
   ]
  },
  {
   "cell_type": "markdown",
   "metadata": {},
   "source": [
    "This last section will briefly cover <b>raster</b> and <b>vector</b> data and show a few introductory ways to work with these data types."
   ]
  },
  {
   "cell_type": "markdown",
   "metadata": {},
   "source": [
    "<b>Raster data</b>\n",
    "\n",
    "The idea of raster data is extended from digital photography, where a <b>matrix</b> is used to represent a continuous part of the world. A <b>GeoTIFF</b> extends the TIFF image format by including geospatial context of the corresponding image.\n",
    "\n",
    "\n",
    "Generic image readers/libraries ignore the geospatial info and retrieve only the image content. Geospatially-aware software/libraries are needed to extract complete information from this image format. "
   ]
  },
  {
   "cell_type": "markdown",
   "metadata": {},
   "source": [
    "<b>RasterIO</b>\n",
    "\n",
    "RasterIO is a light-weight raster processing library that provides enough utility and flexibility for a good range of common needs. Refer to this example as a start.\n"
   ]
  },
  {
   "cell_type": "code",
   "execution_count": null,
   "metadata": {},
   "outputs": [],
   "source": [
    "# load raster data\n",
    "\n",
    "chicago_tif = rasterio.open(os.path.join('pyintro_resources/data','Chicago.tif'))"
   ]
  },
  {
   "cell_type": "code",
   "execution_count": null,
   "metadata": {},
   "outputs": [],
   "source": [
    "# see type\n",
    "\n",
    "type(chicago_tif)"
   ]
  },
  {
   "cell_type": "code",
   "execution_count": null,
   "metadata": {},
   "outputs": [],
   "source": [
    "# find the shape of the array (rows vs columns)\n",
    "\n",
    "chicago_tif.shape"
   ]
  },
  {
   "cell_type": "code",
   "execution_count": null,
   "metadata": {},
   "outputs": [],
   "source": [
    "# assign the first image band to a variable\n",
    "\n",
    "band1 = chicago_tif.read(1)"
   ]
  },
  {
   "cell_type": "markdown",
   "metadata": {},
   "source": [
    "<b>Vector data</b>\n",
    "\n",
    "Vector data describe the world with explicit <b>coordinates</b> and <b>attributes</b>. A <b>GeoJson</b> is a straight-forward format derived from Json. It packs vector data in a way easy for both humans and machines to read/write."
   ]
  },
  {
   "cell_type": "code",
   "execution_count": null,
   "metadata": {},
   "outputs": [],
   "source": [
    "# load chicago vector data\n",
    "\n",
    "chicago = json.load(open(os.path.join('pyintro_resources/data','Chicago_Community.geojson')))"
   ]
  },
  {
   "cell_type": "code",
   "execution_count": null,
   "metadata": {},
   "outputs": [],
   "source": [
    "# Json is represented in Python as a dictionary\n",
    "\n",
    "type(chicago)"
   ]
  },
  {
   "cell_type": "code",
   "execution_count": null,
   "metadata": {},
   "outputs": [],
   "source": [
    "# we can see the dictionary keys\n",
    "\n",
    "chicago.keys()"
   ]
  },
  {
   "cell_type": "code",
   "execution_count": null,
   "metadata": {},
   "outputs": [],
   "source": [
    "# the value of 'type' is 'FeatureCollection': a collection of vector features\n",
    "\n",
    "chicago['type']"
   ]
  },
  {
   "cell_type": "code",
   "execution_count": null,
   "metadata": {},
   "outputs": [],
   "source": [
    "# 'features' contains a list of feature values\n",
    "\n",
    "type(chicago['features'])"
   ]
  },
  {
   "cell_type": "code",
   "execution_count": null,
   "metadata": {},
   "outputs": [],
   "source": [
    "# what are the keys for the first feature in the list\n",
    "\n",
    "chicago['features'][0].keys()"
   ]
  },
  {
   "cell_type": "code",
   "execution_count": null,
   "metadata": {},
   "outputs": [],
   "source": [
    "# what are the properties for the first feature in the list\n",
    "\n",
    "chicago['features'][0]['properties']"
   ]
  },
  {
   "cell_type": "markdown",
   "metadata": {},
   "source": [
    "<a id='basic_vis'></a>\n",
    "## Basic Image Visualization"
   ]
  },
  {
   "cell_type": "markdown",
   "metadata": {},
   "source": [
    "<b>Matplotlib</b> is a powerful library commonly used to display vector data, but one that can handle raster data. Use the `%matplotlib inline` command to help display plots as cell output."
   ]
  },
  {
   "cell_type": "code",
   "execution_count": null,
   "metadata": {},
   "outputs": [],
   "source": [
    "%matplotlib inline\n",
    "import matplotlib.pyplot as plt"
   ]
  },
  {
   "cell_type": "code",
   "execution_count": null,
   "metadata": {
    "scrolled": true
   },
   "outputs": [],
   "source": [
    "# plot the band with Matplotlib\n",
    "\n",
    "fig = plt.figure(figsize=(12,10))\n",
    "plt.imshow(band1, cmap='gray', extent=chicago_tif.bounds)"
   ]
  },
  {
   "cell_type": "markdown",
   "metadata": {},
   "source": [
    "<a id='basic_plot'></a>\n",
    "## Basic Plotting"
   ]
  },
  {
   "cell_type": "markdown",
   "metadata": {},
   "source": [
    "<b>Matplotlib</b> is powerful for generating graphs. Here is a simple example graph:"
   ]
  },
  {
   "cell_type": "code",
   "execution_count": null,
   "metadata": {},
   "outputs": [],
   "source": [
    "plt.plot([1,2,3,4])\n",
    "plt.title('My Plot')\n",
    "plt.ylabel('some numbers')\n",
    "plt.show()   "
   ]
  },
  {
   "cell_type": "markdown",
   "metadata": {},
   "source": [
    "<b>Python libraries</b> optimized for <b>visualizing geospatial vector data</b> will be covered in a later notebook!"
   ]
  },
  {
   "cell_type": "markdown",
   "metadata": {},
   "source": [
    "Enjoy getting to know Python through Jupyter Notebooks!"
   ]
  }
 ],
 "metadata": {
  "kernelspec": {
   "display_name": "Python 3",
   "language": "python",
   "name": "python3"
  },
  "language_info": {
   "codemirror_mode": {
    "name": "ipython",
    "version": 3
   },
   "file_extension": ".py",
   "mimetype": "text/x-python",
   "name": "python",
   "nbconvert_exporter": "python",
   "pygments_lexer": "ipython3",
   "version": "3.7.3"
  }
 },
 "nbformat": 4,
 "nbformat_minor": 2
}
