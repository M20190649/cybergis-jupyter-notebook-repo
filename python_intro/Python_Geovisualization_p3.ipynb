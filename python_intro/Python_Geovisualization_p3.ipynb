{
 "cells": [
  {
   "cell_type": "markdown",
   "metadata": {},
   "source": [
    "# Python Geovisualization\n",
    "#### Interactive Jupyter Notebook"
   ]
  },
  {
   "cell_type": "markdown",
   "metadata": {},
   "source": [
    "This notebook provides an introduction to <b>Geovisualization</b> using Python. Both the <b>Matplotlib</b> family and <b>HTML-based</b> visualization are covered. This notebook was created by Becky Vandewalle based off of prior work by Dandong Yin."
   ]
  },
  {
   "cell_type": "markdown",
   "metadata": {},
   "source": [
    "## Notebook Outline:\n",
    "- [Introduction](#intro)\n",
    "- [Setup](#setup) (run this first!)\n",
    "- [Matplotlib](#intro_matplotlib)\n",
    "    - [Basic Plot Framework](#basic_plot)\n",
    "    - [Plotting with Style](#plot_style)\n",
    "    - [Plotting Shapes](#plot_shapes)\n",
    "    - [Plotting with Numpy](#plot_numpy)\n",
    "    - [More Plotting Control ](#plot_control)\n",
    "- [Introducing Basemap](#intro_basemap)\n",
    "    - [Basemap Backgrounds](#basemap_back)\n",
    "    - [Projecting with Basemap](#basemap_prj)\n",
    "    - [Plotting over Basemap](#basemap_plot)\n",
    "- [GeoPandas, Brielfy](#geopandas)\n",
    "    - [Combining GeoPandas and Basemap](#gpd_base)\n",
    "- [Example: The Massachusetts Dataset](#mass_example)\n",
    "- [Moving to the Web](#web_map)\n",
    "    - [Plotting with mplleaflet](#mplleaflet)\n",
    "    - [Plotting with folium](#folium)"
   ]
  },
  {
   "cell_type": "markdown",
   "metadata": {},
   "source": [
    "<a id='intro'></a>\n",
    "## Introduction"
   ]
  },
  {
   "cell_type": "markdown",
   "metadata": {},
   "source": [
    "Visualization is an important technique to be familiar with to visualize geospatial data and  analysis results. There are quite a few ways to visualize geospatial data using Python, both using extensions to existing plotting capabilities and through specialized geospatial libraries. "
   ]
  },
  {
   "cell_type": "markdown",
   "metadata": {},
   "source": [
    "Some useful documentation is listed here:\n",
    ">Official introductory tutorials for Matplotlib https://matplotlib.org/tutorials/index.html#introductory\n",
    "<br>A relatively-short Matplotlib tutorial http://www.labri.fr/perso/nrougier/teaching/matplotlib/matplotlib.html\n",
    "<br>Quick Matplotlibgraphic reference https://www.stat.berkeley.edu/~nelle/teaching/2017-visualization/README.html#quick-references\n",
    "<br>All basemap methods: https://basemaptutorial.readthedocs.io/en/latest/#all-basemap-methods\n",
    "<br>Basemap examples: https://matplotlib.org/basemap/users/examples.html\n",
    "<br>Cartopy library docs (advanced plotting based on Matplotlib and basemap) https://scitools.org.uk/cartopy/docs/v0.15/matplotlib/advanced_plotting.html\n"
   ]
  },
  {
   "cell_type": "markdown",
   "metadata": {},
   "source": [
    "<a id='setup'></a>\n",
    "## Setup\n",
    "Run this cell for the rest of the notebook to work!"
   ]
  },
  {
   "cell_type": "code",
   "execution_count": null,
   "metadata": {},
   "outputs": [],
   "source": [
    "!pip install --user mapclassify\n",
    "# aftrer installation, you need to restart kernel"
   ]
  },
  {
   "cell_type": "code",
   "execution_count": null,
   "metadata": {
    "scrolled": true
   },
   "outputs": [],
   "source": [
    "# import required libraries\n",
    "\n",
    "%matplotlib inline\n",
    "import os\n",
    "from datetime import datetime\n",
    "\n",
    "# set environment variable needed for basemap\n",
    "\n",
    "os.environ[\"PROJ_LIB\"] = r'/opt/conda/pkgs/proj4-5.2.0-he1b5a44_1006/share/proj/'\n",
    "\n",
    "import numpy as np\n",
    "import mpl_toolkits\n",
    "\n",
    "import pandas as pd\n",
    "import geopandas as gpd\n",
    "from geopandas import GeoSeries, GeoDataFrame\n",
    "from shapely.geometry import Point\n",
    "\n",
    "#import mapclassify\n",
    "import matplotlib.pyplot as plt\n",
    "import matplotlib.patches as patches\n",
    "from mpl_toolkits.basemap import Basemap\n",
    "\n",
    "\n",
    "import json\n",
    "import folium\n",
    "import mplleaflet"
   ]
  },
  {
   "cell_type": "markdown",
   "metadata": {},
   "source": [
    "<a id='intro_matplotlib'></a>\n",
    "## Matplotlib"
   ]
  },
  {
   "cell_type": "markdown",
   "metadata": {},
   "source": [
    "<b>Matplotlib</b> is a graphic workhorse for Python and is commonly used for graphs and figures. The `%matplotlib inline` function helps plots to display properly in Jupyter Notebooks."
   ]
  },
  {
   "cell_type": "code",
   "execution_count": null,
   "metadata": {},
   "outputs": [],
   "source": [
    "%matplotlib inline"
   ]
  },
  {
   "cell_type": "markdown",
   "metadata": {},
   "source": [
    "Plot a simple function. The `;` is used to suppress Matplotlib's written output."
   ]
  },
  {
   "cell_type": "code",
   "execution_count": null,
   "metadata": {},
   "outputs": [],
   "source": [
    "# plot 0 - 9\n",
    "\n",
    "plt.plot(range(10));"
   ]
  },
  {
   "cell_type": "markdown",
   "metadata": {},
   "source": [
    "<a id='basic_plot'></a>\n",
    "### Basic Plot Framework"
   ]
  },
  {
   "cell_type": "markdown",
   "metadata": {},
   "source": [
    "A basic Matplotlib plot contains a Figure, Axes, a Title, and Labels.\n",
    "\n",
    "\n",
    "![](https://files.realpython.com/media/fig_map.bc8c7cabd823.png)"
   ]
  },
  {
   "cell_type": "markdown",
   "metadata": {},
   "source": [
    "It is also possible to include <b>multiple axes</b> in one figure. This image shows three axes.\n",
    "\n",
    "![](https://files.realpython.com/media/empty_gridspec_annot.782349dc90a1.png)"
   ]
  },
  {
   "cell_type": "markdown",
   "metadata": {},
   "source": [
    "<a id='plot_style'></a>\n",
    "### Plotting with Style"
   ]
  },
  {
   "cell_type": "markdown",
   "metadata": {},
   "source": [
    "Using different plotting character <b>keys</b> in the `plot` function's second argument, you can plot different styles of <b>lines</b> and <b>symbols</b> using different <b>colors</b>.\n",
    "\n",
    "In the following plot, '`+`' indicates the symbols should be shaped like crosses, '`r`' tells Matplotlib to plot the line in red, and '`--`' says the line should be dashed."
   ]
  },
  {
   "cell_type": "code",
   "execution_count": null,
   "metadata": {},
   "outputs": [],
   "source": [
    "plt.plot(range(10), '+r--', markersize=10, label='inc');"
   ]
  },
  {
   "cell_type": "markdown",
   "metadata": {},
   "source": [
    "Here are a few more examples:"
   ]
  },
  {
   "cell_type": "code",
   "execution_count": null,
   "metadata": {},
   "outputs": [],
   "source": [
    "plt.plot(range(10)[::-1], 'b*:', label='dec')\n",
    "plt.plot([4.5]*10, 'gx-', label='fix')\n",
    "plt.plot(range(10), 'ko-', label='ver')\n",
    "plt.legend();"
   ]
  },
  {
   "cell_type": "markdown",
   "metadata": {},
   "source": [
    "<a id='plot_shapes'></a>\n",
    "### Plotting Shapes"
   ]
  },
  {
   "cell_type": "markdown",
   "metadata": {},
   "source": [
    "You can also draw shapes on a plot using patches."
   ]
  },
  {
   "cell_type": "code",
   "execution_count": null,
   "metadata": {},
   "outputs": [],
   "source": [
    "plt.plot(range(10))\n",
    "plt.gca().add_patch(patches.Circle((5, 5), 2, edgecolor='red', facecolor='none'))\n",
    "plt.gca().add_patch(patches.Rectangle((0, 0), 9, 9, linewidth=10, edgecolor='cyan', facecolor='none'));"
   ]
  },
  {
   "cell_type": "markdown",
   "metadata": {},
   "source": [
    ">A good reference for Matplotlib plotting can be found [here](https://www.stat.berkeley.edu/~nelle/teaching/2017-visualization/README.html#quick-references)."
   ]
  },
  {
   "cell_type": "markdown",
   "metadata": {},
   "source": [
    "<a id='plot_numpy'></a>\n",
    "### Plotting with Numpy"
   ]
  },
  {
   "cell_type": "markdown",
   "metadata": {},
   "source": [
    "<b>Numpy</b> is a Python library that has some useful functions for dealing with number sequences. Below is an example of plotting functions using Matplotlib from a Numpy array."
   ]
  },
  {
   "cell_type": "code",
   "execution_count": null,
   "metadata": {},
   "outputs": [],
   "source": [
    "# evenly sampled time at 200ms intervals\n",
    "t = np.arange(0., 5., 0.2)\n",
    "\n",
    "# red dashes, blue squares and green triangles\n",
    "plt.plot(t, t, 'r--', t, t**2, 'bs', t, t**3, 'g^');"
   ]
  },
  {
   "cell_type": "markdown",
   "metadata": {},
   "source": [
    "Here is an example using random number generation features."
   ]
  },
  {
   "cell_type": "code",
   "execution_count": null,
   "metadata": {},
   "outputs": [],
   "source": [
    "data = {'a': np.arange(50),\n",
    "        'c': np.random.randint(0, 50, 50),\n",
    "        'd': np.random.randn(50)}\n",
    "data['b'] = data['a'] + 10 * np.random.randn(50)\n",
    "data['d'] = np.abs(data['d']) * 100\n",
    "\n",
    "plt.scatter('a', 'b', c='c', s='d', data=data)\n",
    "plt.xlabel('entry a')\n",
    "plt.ylabel('entry b');"
   ]
  },
  {
   "cell_type": "markdown",
   "metadata": {},
   "source": [
    "<a id='plot_control'></a>\n",
    "### More Plotting Control "
   ]
  },
  {
   "cell_type": "markdown",
   "metadata": {},
   "source": [
    "Knowing the <b>Elements of a Plot</b> can allow you to adjust the plot layout with more fine control. Here are important parts of a plot!\n",
    "\n",
    "![](https://matplotlib.org/_images/anatomy.png)"
   ]
  },
  {
   "cell_type": "markdown",
   "metadata": {},
   "source": [
    "Using these we can <b>fine tune</b> labels and line widths for the following histogram."
   ]
  },
  {
   "cell_type": "code",
   "execution_count": null,
   "metadata": {},
   "outputs": [],
   "source": [
    "plt.figure(figsize=(12,10))\n",
    "\n",
    "mu, sigma = 100, 15\n",
    "x = mu + sigma * np.random.randn(10000)\n",
    "\n",
    "n, bins, _ = plt.hist(x, 50, density=1, facecolor='g', alpha=0.75)\n",
    "plt.xlabel('Value', fontsize=22)\n",
    "plt.ylabel('Probability', fontsize=22)\n",
    "plt.title('Histogram', fontsize=22)\n",
    "plt.tick_params(labelsize=20)\n",
    "plt.text(60, .025, r'$\\mu=100,\\ \\sigma=15$', fontsize=22)\n",
    "plt.axis([40, 160, 0, 0.03])\n",
    "plt.grid(True)"
   ]
  },
  {
   "cell_type": "markdown",
   "metadata": {},
   "source": [
    "<a id='intro_basemap'></a>\n",
    "## Introducing Basemap"
   ]
  },
  {
   "cell_type": "markdown",
   "metadata": {},
   "source": [
    "<b>Basemap</b> is a library for plotting maps in Python. It handles dealing with coordinate projections, plots user-specified data using Matplotlib, and gathers and clips datasets to draw in the background."
   ]
  },
  {
   "cell_type": "markdown",
   "metadata": {},
   "source": [
    "Once you set up a Basemap, you can call different <b>functions</b>, such as the `drawcoastlines` function to add layers to the map.\n",
    "\n",
    "The cell below initiates a Basemap by designating projection, resolution, window extent and coordinates."
   ]
  },
  {
   "cell_type": "code",
   "execution_count": null,
   "metadata": {},
   "outputs": [],
   "source": [
    "# set initial values\n",
    "\n",
    "bmap = Basemap(width=12000000,height=9000000,projection='lcc',\n",
    "            resolution='c',lat_1=45.,lat_2=55,lat_0=50,lon_0=-107.)"
   ]
  },
  {
   "cell_type": "markdown",
   "metadata": {},
   "source": [
    "Nothing is plotted yet. We can see the type of `bmap` below."
   ]
  },
  {
   "cell_type": "code",
   "execution_count": null,
   "metadata": {},
   "outputs": [],
   "source": [
    "bmap"
   ]
  },
  {
   "cell_type": "markdown",
   "metadata": {},
   "source": [
    "Now we can start adding to the map:"
   ]
  },
  {
   "cell_type": "code",
   "execution_count": null,
   "metadata": {},
   "outputs": [],
   "source": [
    "# draw coastlines\n",
    "\n",
    "bmap.drawcoastlines();"
   ]
  },
  {
   "cell_type": "markdown",
   "metadata": {},
   "source": [
    "By adding a blue background, we can simulate oceans."
   ]
  },
  {
   "cell_type": "code",
   "execution_count": null,
   "metadata": {},
   "outputs": [],
   "source": [
    "# set up map\n",
    "\n",
    "bmap = Basemap(width=12000000,height=9000000,projection='lcc',\n",
    "            resolution='c',lat_1=45.,lat_2=55,lat_0=50,lon_0=-107.)\n",
    "bmap.drawcoastlines()\n",
    "\n",
    "# set map background to blue\n",
    "\n",
    "bmap.drawmapboundary(fill_color='aqua');"
   ]
  },
  {
   "cell_type": "markdown",
   "metadata": {},
   "source": [
    "Finally we can color the continents so that it looks like they are on top of the ocean."
   ]
  },
  {
   "cell_type": "code",
   "execution_count": null,
   "metadata": {},
   "outputs": [],
   "source": [
    "# set up map\n",
    "\n",
    "bmap = Basemap(width=12000000,height=9000000,projection='lcc',\n",
    "            resolution='c',lat_1=45.,lat_2=55,lat_0=50,lon_0=-107.)\n",
    "bmap.drawcoastlines()\n",
    "bmap.drawmapboundary(fill_color='aqua')\n",
    "\n",
    "# fill continents, set lake color same as ocean color.\n",
    "\n",
    "bmap.fillcontinents(color='coral',lake_color='aqua');"
   ]
  },
  {
   "cell_type": "markdown",
   "metadata": {},
   "source": [
    "<a id='basemap_back'></a>\n",
    "### Basemap Backgrounds"
   ]
  },
  {
   "cell_type": "markdown",
   "metadata": {},
   "source": [
    "Several types of preloaded map <b>style options</b> are available in Basemap. Here are a few examples:"
   ]
  },
  {
   "cell_type": "markdown",
   "metadata": {},
   "source": [
    "<b>Blue Marble</b>:"
   ]
  },
  {
   "cell_type": "code",
   "execution_count": null,
   "metadata": {},
   "outputs": [],
   "source": [
    "bmap = Basemap(width=12000000,height=9000000,projection='lcc',\n",
    "            resolution=None,lat_1=45.,lat_2=55,lat_0=50,lon_0=-107.)\n",
    "bmap.bluemarble();"
   ]
  },
  {
   "cell_type": "markdown",
   "metadata": {},
   "source": [
    "<b>Shaded Relief</b>:"
   ]
  },
  {
   "cell_type": "code",
   "execution_count": null,
   "metadata": {},
   "outputs": [],
   "source": [
    "bmap = Basemap(width=12000000,height=9000000,projection='lcc',\n",
    "            resolution=None,lat_1=45.,lat_2=55,lat_0=50,lon_0=-107.)\n",
    "bmap.shadedrelief();"
   ]
  },
  {
   "cell_type": "markdown",
   "metadata": {},
   "source": [
    "<b>ETOPO1 Global Relief Model</b>: "
   ]
  },
  {
   "cell_type": "code",
   "execution_count": null,
   "metadata": {},
   "outputs": [],
   "source": [
    "bmap = Basemap(width=12000000,height=9000000,projection='lcc',\n",
    "            resolution=None,lat_1=45.,lat_2=55,lat_0=50,lon_0=-107.)\n",
    "bmap.etopo();"
   ]
  },
  {
   "cell_type": "markdown",
   "metadata": {},
   "source": [
    "<a id='basemap_prj'></a>\n",
    "### Projecting with Basemap"
   ]
  },
  {
   "cell_type": "markdown",
   "metadata": {},
   "source": [
    "<b>Basemap</b> handles different projections with the projection parameter in the basic basemap. It is fairly easy to draw parallels and meridians with Basemap.\n",
    "\n",
    "This first map has a Lambert Conformal projection, indicated by `lcc`."
   ]
  },
  {
   "cell_type": "code",
   "execution_count": null,
   "metadata": {},
   "outputs": [],
   "source": [
    "# setup Lambert Conformal basemap\n",
    "\n",
    "m = Basemap(width=12000000,height=9000000,projection='lcc',\n",
    "            resolution='c',lat_1=45.,lat_2=55,lat_0=50,lon_0=-107.)\n",
    "\n",
    "m.drawcoastlines()\n",
    "m.drawmapboundary(fill_color='aqua')\n",
    "m.fillcontinents(color='coral',lake_color='aqua')\n",
    "\n",
    "# draw parallels and meridians\n",
    "\n",
    "parallels = np.arange(0.,81,10.)\n",
    "m.drawparallels(parallels,labels=[False,True,True,False])\n",
    "\n",
    "meridians = np.arange(10.,351.,20.)\n",
    "m.drawmeridians(meridians,labels=[True,False,False,True]);"
   ]
  },
  {
   "cell_type": "markdown",
   "metadata": {},
   "source": [
    "This next map has a Miller projection, indicated by `mill`. This also shows how you can incorporate shading to indicate daylight throughout the map."
   ]
  },
  {
   "cell_type": "code",
   "execution_count": null,
   "metadata": {},
   "outputs": [],
   "source": [
    "# create a map with the Miller projection\n",
    "\n",
    "m = Basemap(projection='mill',lon_0=180)\n",
    "\n",
    "# plot coastlines, draw label meridians and parallels.\n",
    "m.drawcoastlines()\n",
    "m.drawparallels(np.arange(-90,90,30),labels=[1,0,0,0])\n",
    "m.drawmeridians(np.arange(m.lonmin,m.lonmax+30,60),labels=[0,0,0,1])\n",
    "\n",
    "# fill continents 'coral' (with zorder=0), color wet areas 'aqua'\n",
    "m.drawmapboundary(fill_color='aqua')\n",
    "m.fillcontinents(color='coral',lake_color='aqua')\n",
    "\n",
    "# shade the night areas, with alpha transparency so the\n",
    "# map shows through. Use current time in UTC.\n",
    "date = datetime.utcnow()\n",
    "CS = m.nightshade(date)\n",
    "\n",
    "plt.title('Day/Night Map for %s (UTC)' % date.strftime(\"%d %b %Y %H:%M:%S\"));"
   ]
  },
  {
   "cell_type": "markdown",
   "metadata": {},
   "source": [
    "<a id='basemap_plot'></a>\n",
    "### Plotting over Basemap"
   ]
  },
  {
   "cell_type": "markdown",
   "metadata": {},
   "source": [
    "The real power of <b>Basemap</b> comes from plotting your data over it!\n",
    "\n",
    "Here, random integers are plotted and connected on top of a Basemap."
   ]
  },
  {
   "cell_type": "code",
   "execution_count": null,
   "metadata": {},
   "outputs": [],
   "source": [
    "lats = np.random.randint(-75, 75, size=50)\n",
    "lons = np.random.randint(-179, 179, size=50)\n",
    "\n",
    "fig = plt.gcf()\n",
    "fig.set_size_inches(8, 6.5)\n",
    "\n",
    "m = Basemap(projection='merc', \\\n",
    "            llcrnrlat=-80, urcrnrlat=80, \\\n",
    "            llcrnrlon=-180, urcrnrlon=180, \\\n",
    "            lat_ts=20, \\\n",
    "            resolution='c')\n",
    "\n",
    "m.bluemarble(scale=0.2)   # full scale will be overkill\n",
    "m.drawcoastlines(color='white', linewidth=0.2)  # add coastlines\n",
    "\n",
    "x, y = m(lons, lats)  # transform coordinates\n",
    "\n",
    "plt.plot(x,y,'ro:');"
   ]
  },
  {
   "cell_type": "markdown",
   "metadata": {},
   "source": [
    "On this next map, a <b>great circle route</b> is calculated and visualized."
   ]
  },
  {
   "cell_type": "code",
   "execution_count": null,
   "metadata": {},
   "outputs": [],
   "source": [
    "fig=plt.figure(figsize=(12,6))\n",
    "\n",
    "# setup mercator map projection.\n",
    "m = Basemap(llcrnrlon=-100.,llcrnrlat=20.,urcrnrlon=20.,urcrnrlat=60.,\\\n",
    "            resolution='l',projection='merc',\\\n",
    "            lat_0=40.,lon_0=-20.,lat_ts=20.)\n",
    "m.drawcoastlines()\n",
    "m.fillcontinents(zorder=0)\n",
    "\n",
    "\n",
    "# nylat, nylon are lat/lon of New York\n",
    "nylat = 40.78; nylon = -73.98\n",
    "\n",
    "# lonlat, lonlon are lat/lon of London.\n",
    "lonlat = 51.53; lonlon = 0.08\n",
    "\n",
    "# draw great circle route between NY and London\n",
    "m.drawgreatcircle(nylon,nylat,lonlon,lonlat,linewidth=2,color='b')\n",
    "\n",
    "m.scatter(nylon, nylat, s=500, latlon=True)\n",
    "m.scatter(lonlon, lonlat, s=500, latlon=True)\n",
    "\n",
    "# draw parallels\n",
    "m.drawparallels(np.arange(10,90,20),labels=[1,1,0,1])\n",
    "\n",
    "# draw meridians\n",
    "m.drawmeridians(np.arange(-180,180,30),labels=[1,1,0,1])\n",
    "\n",
    "plt.title('Great Circle from New York to London')\n",
    "print (plt.xlim(), plt.ylim())"
   ]
  },
  {
   "cell_type": "markdown",
   "metadata": {},
   "source": [
    "<a id='geopandas'></a>\n",
    "## GeoPandas, Brielfy"
   ]
  },
  {
   "cell_type": "markdown",
   "metadata": {},
   "source": [
    "<b>GeoPandas</b> is a Python library used for working with Geospatial data. We'll only look at it briefly here to see how it works with Basemap.\n",
    ">Learn more about <b>GeoPandas</b> in [this notebook](Python_Geospatial_Libraries_p3.ipynb)!"
   ]
  },
  {
   "cell_type": "markdown",
   "metadata": {},
   "source": [
    "Plot a simple series of points:"
   ]
  },
  {
   "cell_type": "code",
   "execution_count": null,
   "metadata": {},
   "outputs": [],
   "source": [
    "# plot a geoseries\n",
    "\n",
    "gs = GeoSeries([Point(-120, 45), Point(-121.2, 46), Point(-122.9, 47.5)])\n",
    "gs.crs = {'init': 'epsg:4326'}\n",
    "gs.plot(marker='*', color='red', markersize=100, figsize=(4, 4));"
   ]
  },
  {
   "cell_type": "markdown",
   "metadata": {},
   "source": [
    "<a id='gpd_base'></a>\n",
    "### Combining GeoPandas and Basemap"
   ]
  },
  {
   "cell_type": "markdown",
   "metadata": {},
   "source": [
    "This is an example of a map that combines <b>GeoPandas</b> and <b>Basemap</b>."
   ]
  },
  {
   "cell_type": "code",
   "execution_count": null,
   "metadata": {},
   "outputs": [],
   "source": [
    "# plot geoseries over basemap\n",
    "\n",
    "m = Basemap(llcrnrlon=-125.,llcrnrlat=43.,urcrnrlon=-118.,urcrnrlat=48.,\\\n",
    "            resolution='l',epsg=4326)\n",
    "m.drawparallels(np.arange(42,50,2),labels=[1,0,0,1])\n",
    "m.drawmeridians(np.arange(-125,-115,2),labels=[1,0,0,1])\n",
    "m.drawcoastlines()\n",
    "m.fillcontinents(zorder=0)\n",
    "gs.plot(ax=plt.gca(), marker='*',color='red', markersize=100);"
   ]
  },
  {
   "cell_type": "markdown",
   "metadata": {},
   "source": [
    "<a id='mass_example'></a>\n",
    "## ProblemExample: The Massachusetts Dataset"
   ]
  },
  {
   "cell_type": "markdown",
   "metadata": {},
   "source": [
    "Here lets look at taking a dataset and displaying it with Python. \n",
    "\n",
    "First we'll import the data from a shapefile:"
   ]
  },
  {
   "cell_type": "code",
   "execution_count": null,
   "metadata": {},
   "outputs": [],
   "source": [
    "# read data from shapefile\n",
    "\n",
    "mass_shp = gpd.read_file(os.path.join('./pyintro_resources/data','towns.shp'))\n",
    "type(mass_shp)"
   ]
  },
  {
   "cell_type": "markdown",
   "metadata": {},
   "source": [
    "Now lets inspect the file:"
   ]
  },
  {
   "cell_type": "code",
   "execution_count": null,
   "metadata": {},
   "outputs": [],
   "source": [
    "# read first lines\n",
    "\n",
    "mass_shp.head()"
   ]
  },
  {
   "cell_type": "markdown",
   "metadata": {},
   "source": [
    "We can fairly easily plot the data using the `GeoDataFrame.plot` method!"
   ]
  },
  {
   "cell_type": "code",
   "execution_count": null,
   "metadata": {},
   "outputs": [],
   "source": [
    "mass_shp.plot();"
   ]
  },
  {
   "cell_type": "markdown",
   "metadata": {},
   "source": [
    "We can then expand on the basic plot:"
   ]
  },
  {
   "cell_type": "code",
   "execution_count": null,
   "metadata": {},
   "outputs": [],
   "source": [
    "##mass_shp.plot(column='POP2010', cmap='rainbow', legend=True, scheme='Fisher_Jenks', k=10, figsize=(12,8),legend_kwds={'loc':'lower left'})\n",
    "## question for the two parameters: scheme and legend_kwds\n",
    "import mapclassify\n",
    "mass_shp.plot(column='POP2010',cmap='rainbow',legend=True,k=10,figsize=(12,8),scheme='Fisher_Jenks',legend_kwds={'loc':'lower left'})\n",
    "plt.title('2010 Population Distribution in Massachusetts', fontsize=20)\n",
    "print (plt.xlim(), plt.ylim())"
   ]
  },
  {
   "cell_type": "markdown",
   "metadata": {},
   "source": [
    "It can be useful to know the coordinate reference system for our data:"
   ]
  },
  {
   "cell_type": "code",
   "execution_count": null,
   "metadata": {},
   "outputs": [],
   "source": [
    "mass_shp.crs"
   ]
  },
  {
   "cell_type": "markdown",
   "metadata": {},
   "source": [
    "Now we can plot our data using Basemap (Note that this is low quality, but higher quality Basemap datasets can be installed)."
   ]
  },
  {
   "cell_type": "code",
   "execution_count": null,
   "metadata": {},
   "outputs": [],
   "source": [
    "plt.figure(figsize=(12,10))\n",
    "m = Basemap(llcrnrlon=-73.5,llcrnrlat=41.0,urcrnrlon=-69.5,urcrnrlat=43., \n",
    "            resolution = 'l', epsg=26986)\n",
    "m.drawparallels(np.arange(41, 43, 0.5),labels=[1,0,0,1])\n",
    "m.drawmeridians(np.arange(-73, -69, 1.),labels=[1,0,0,1])\n",
    "m.drawcoastlines()\n",
    "m.drawstates()\n",
    "m.fillcontinents(zorder=0)\n",
    "\n",
    "mass_shp.to_crs(m.proj4string).plot(column='POP2010', cmap='rainbow', legend=True, \n",
    "                                    scheme='Fisher_Jenks', k=10, figsize=(12,8), \n",
    "                                    legend_kwds={'loc':'lower left'}, alpha=0.5, \n",
    "                                    ax=plt.gca())\n",
    "\n",
    "plt.title('2010 Population Distribution in Massachusetts', fontsize=20);"
   ]
  },
  {
   "cell_type": "markdown",
   "metadata": {},
   "source": [
    "<a id='web_map'></a>\n",
    "## Problem: Moving to the Web"
   ]
  },
  {
   "cell_type": "markdown",
   "metadata": {},
   "source": [
    "Sometimes it can be useful to have an interactive web map that allows you to zoom in and out, toggle layers, and otherwise interact with the data. Two particular libraries, <b>mplleaflet</b> and <b>folium</b> come in handy here!\n",
    "\n",
    "<b>mplleaflet</b> easily converts Matplotlib blots to Leaflet webmaps.\n",
    "<b>folium</b> is used to display data in Leaflet webmaps.\n",
    "\n",
    ">Learn more about mplleaflet https://github.com/jwass/mplleaflet\n",
    "<br>Introduction to Leaflet https://leafletjs.com/\n",
    "<br>folium documentation https://python-visualization.github.io/folium/"
   ]
  },
  {
   "cell_type": "markdown",
   "metadata": {},
   "source": [
    "<a id='mplleaflet'></a>\n",
    "### Plotting with mplleaflet"
   ]
  },
  {
   "cell_type": "markdown",
   "metadata": {},
   "source": [
    "To demonstrate how easily <b>mplleaflet</b> works, here is a simple plot using Matplotlib."
   ]
  },
  {
   "cell_type": "code",
   "execution_count": null,
   "metadata": {},
   "outputs": [],
   "source": [
    "# basic plot\n",
    "\n",
    "plt.plot(range(10), 'b') \n",
    "plt.plot(range(10), 'rs');"
   ]
  },
  {
   "cell_type": "markdown",
   "metadata": {},
   "source": [
    "With one extra line in <b>mplleaflet</b>, we can convert this to an interactive Leaflet map!"
   ]
  },
  {
   "cell_type": "code",
   "execution_count": null,
   "metadata": {},
   "outputs": [],
   "source": [
    "# basic plot - now interactive\n",
    "\n",
    "plt.plot(range(10), 'b') \n",
    "plt.plot(range(10), 'rs')\n",
    "mplleaflet.display()"
   ]
  },
  {
   "cell_type": "markdown",
   "metadata": {},
   "source": [
    "Now, lets make an interactive map using the Chicago Community dataset."
   ]
  },
  {
   "cell_type": "code",
   "execution_count": null,
   "metadata": {},
   "outputs": [],
   "source": [
    "# read in data\n",
    "\n",
    "df = gpd.read_file(os.path.join('./pyintro_resources/data', 'Chicago_Community.geojson'))"
   ]
  },
  {
   "cell_type": "code",
   "execution_count": null,
   "metadata": {},
   "outputs": [],
   "source": [
    "# display columns\n",
    "\n",
    "df.columns"
   ]
  },
  {
   "cell_type": "markdown",
   "metadata": {},
   "source": [
    "What does a regular plot look like?"
   ]
  },
  {
   "cell_type": "code",
   "execution_count": null,
   "metadata": {},
   "outputs": [],
   "source": [
    "# plot the first 50 communities\n",
    "\n",
    "ax = df.head(50).plot(cmap='tab10')"
   ]
  },
  {
   "cell_type": "code",
   "execution_count": null,
   "metadata": {},
   "outputs": [],
   "source": [
    "# plot interactively\n",
    "\n",
    "mplleaflet.display(fig=ax.figure, crs=df.crs)"
   ]
  },
  {
   "cell_type": "markdown",
   "metadata": {},
   "source": [
    "Here is another example:"
   ]
  },
  {
   "cell_type": "code",
   "execution_count": null,
   "metadata": {},
   "outputs": [],
   "source": [
    "ax=df.plot(cmap='tab10')"
   ]
  },
  {
   "cell_type": "markdown",
   "metadata": {},
   "source": [
    "This saves the map to an HTML File."
   ]
  },
  {
   "cell_type": "code",
   "execution_count": null,
   "metadata": {},
   "outputs": [],
   "source": [
    "mplleaflet.show(fig=ax.figure, crs=df.crs, tiles='cartodb_positron', path='chicago.html')"
   ]
  },
  {
   "cell_type": "markdown",
   "metadata": {},
   "source": [
    "Now we can load the HTML file into an iframe for display."
   ]
  },
  {
   "cell_type": "code",
   "execution_count": null,
   "metadata": {},
   "outputs": [],
   "source": [
    "%%html\n",
    "<iframe src='chicago.html' width=1000 height=600/>"
   ]
  },
  {
   "cell_type": "markdown",
   "metadata": {},
   "source": [
    "<a id='folium'></a>\n",
    "### Plotting with folium"
   ]
  },
  {
   "cell_type": "markdown",
   "metadata": {},
   "source": [
    "<b>folium</b> can create some truly stunning interactive webmaps.\n",
    "\n",
    "Here is a basic example:"
   ]
  },
  {
   "cell_type": "code",
   "execution_count": null,
   "metadata": {},
   "outputs": [],
   "source": [
    "# map centered on a specific location\n",
    "\n",
    "m = folium.Map(location=[40.1080246,-88.2259164],zoom_start=17)\n",
    "m"
   ]
  },
  {
   "cell_type": "markdown",
   "metadata": {},
   "source": [
    "You can easily save a map to an HTML file using the `save` function."
   ]
  },
  {
   "cell_type": "code",
   "execution_count": null,
   "metadata": {},
   "outputs": [],
   "source": [
    "# save the map as HTML\n",
    "\n",
    "m.save('folium-quad.html')"
   ]
  },
  {
   "cell_type": "markdown",
   "metadata": {},
   "source": [
    "You can quickly change the base map style:"
   ]
  },
  {
   "cell_type": "code",
   "execution_count": null,
   "metadata": {},
   "outputs": [],
   "source": [
    "folium.Map(location=[40.1080246,-88.2259164], tiles='Stamen Toner', zoom_start=17)"
   ]
  },
  {
   "cell_type": "markdown",
   "metadata": {},
   "source": [
    "You can easily add markers with popups descriptions tooltip windows. The `add_to` function allows you to add additional content to a base map."
   ]
  },
  {
   "cell_type": "code",
   "execution_count": null,
   "metadata": {},
   "outputs": [],
   "source": [
    "# hover over markers to see tooltip\n",
    "\n",
    "m = folium.Map(location=[40.1094763,-88.2261033], zoom_start=17, tiles='Stamen Terrain')\n",
    "\n",
    "tooltip = 'Click me!'\n",
    "folium.Marker([40.1094763,-88.2261033], popup='<i>Natural History Building</i>', tooltip=tooltip).add_to(m)\n",
    "folium.Marker([40.1094375,-88.2271792], popup='<b>Illini Union</b>', tooltip=tooltip).add_to(m)\n",
    "m"
   ]
  },
  {
   "cell_type": "markdown",
   "metadata": {},
   "source": [
    "Folium also makes it easy to change marker styles."
   ]
  },
  {
   "cell_type": "code",
   "execution_count": null,
   "metadata": {},
   "outputs": [],
   "source": [
    "# change marker style\n",
    "\n",
    "m = folium.Map(location=[40.1094763,-88.2261033], zoom_start=17, tiles='Stamen Terrain')\n",
    "folium.Marker(location = [40.1094763,-88.2261033], popup = 'Natural History Building', \n",
    "              icon = folium.Icon(icon = 'cloud')).add_to(m)\n",
    "folium.Marker(location = [40.1094375,-88.2271792], popup='Illini Union',\n",
    "    icon = folium.Icon(color = 'green')).add_to(m)\n",
    "folium.Marker(location=[40.1092067,-88.2266318], popup='Harker Hall',\n",
    "    icon=folium.Icon(color='red', icon='info-sign')).add_to(m)\n",
    "m"
   ]
  },
  {
   "cell_type": "markdown",
   "metadata": {},
   "source": [
    "It is simple to add shapes to a map as well."
   ]
  },
  {
   "cell_type": "code",
   "execution_count": null,
   "metadata": {},
   "outputs": [],
   "source": [
    "# plot circles\n",
    "\n",
    "m = folium.Map(location=[40.1094763,-88.2261033], tiles='Stamen Toner', zoom_start=13)\n",
    "\n",
    "folium.Circle(radius=100, #meters\n",
    "    location=[40.107578, -88.227182], popup='The Quad', color='crimson',fill=False,).add_to(m)\n",
    "folium.CircleMarker(location=[40.117955, -88.242498],\n",
    "    radius=30, #screen pixels, remains constant when zoomed out\n",
    "    popup='Downtown Champaign', color='#3186cc', fill=True, fill_color='#3186cc'\n",
    ").add_to(m)\n",
    "m"
   ]
  },
  {
   "cell_type": "markdown",
   "metadata": {},
   "source": [
    "Other types of interactive features can be added, such as location aware pop ups. <b>Click the map</b> to see the latitude and longitude values!"
   ]
  },
  {
   "cell_type": "code",
   "execution_count": null,
   "metadata": {},
   "outputs": [],
   "source": [
    "# add lat/long popup on click\n",
    "\n",
    "m = folium.Map(location=[40.1094763,-88.2261033], tiles='Stamen Terrain', zoom_start=12)\n",
    "m.add_child(folium.LatLngPopup())\n",
    "m"
   ]
  },
  {
   "cell_type": "markdown",
   "metadata": {},
   "source": [
    "Similarly, you can also interactively add things like markers."
   ]
  },
  {
   "cell_type": "code",
   "execution_count": null,
   "metadata": {},
   "outputs": [],
   "source": [
    "# Add markers on click\n",
    " \n",
    "m = folium.Map(location=[46.8527, -121.7649], tiles='Stamen Terrain', zoom_start=13)\n",
    "folium.Marker([46.8354, -121.7325], popup='Camp Muir').add_to(m)\n",
    "m.add_child(folium.ClickForMarker(popup='Waypoint'))\n",
    "m"
   ]
  },
  {
   "cell_type": "markdown",
   "metadata": {},
   "source": [
    "### How do you want to plot your maps?"
   ]
  }
 ],
 "metadata": {
  "kernelspec": {
   "display_name": "Python 3",
   "language": "python",
   "name": "python3"
  },
  "language_info": {
   "codemirror_mode": {
    "name": "ipython",
    "version": 3
   },
   "file_extension": ".py",
   "mimetype": "text/x-python",
   "name": "python",
   "nbconvert_exporter": "python",
   "pygments_lexer": "ipython3",
   "version": "3.7.3"
  }
 },
 "nbformat": 4,
 "nbformat_minor": 2
}
